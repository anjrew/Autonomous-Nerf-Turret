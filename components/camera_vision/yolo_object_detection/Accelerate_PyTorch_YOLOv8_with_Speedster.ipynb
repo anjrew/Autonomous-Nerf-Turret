{
 "cells": [
  {
   "attachments": {},
   "cell_type": "markdown",
   "metadata": {},
   "source": [
    "![New Release: Accelerate YOLOv8](assets/yolov8.png)"
   ]
  },
  {
   "cell_type": "markdown",
   "metadata": {},
   "source": [
    "# Accelerate Ultralytics YOLOv8 with Speedster"
   ]
  },
  {
   "cell_type": "code",
   "execution_count": 21,
   "metadata": {},
   "outputs": [],
   "source": [
    "# model_name: str = \"yolov8n-seg.pt\"\n",
    "model_name: str = 'yolov8s.pt'"
   ]
  },
  {
   "cell_type": "markdown",
   "id": "6cfcd562",
   "metadata": {
    "id": "6cfcd562"
   },
   "source": [
    "Hi and welcome 👋\n",
    "\n",
    "In this notebook we will discover how in just a few steps you can speed up the response time of deep learning model inference using the Speedster module from the open-source library nebullvm.\n",
    "\n",
    "With Speedster's latest API, you can speed up models up to 10 times without any loss of accuracy (option A), or accelerate them up to 20-30 times by setting a self-defined amount of accuracy/precision that you are willing to trade off to get even lower response time (option B). To accelerate your model, Speedster takes advantage of various optimization techniques such as deep learning compilers (in both option A and option B), quantization, half accuracy, and so on (option B).\n",
    "\n",
    "Let's jump to the code."
   ]
  },
  {
   "cell_type": "code",
   "execution_count": 22,
   "metadata": {},
   "outputs": [
    {
     "name": "stdout",
     "output_type": "stream",
     "text": [
      "env: CUDA_VISIBLE_DEVICES=0\n"
     ]
    }
   ],
   "source": [
    "%env CUDA_VISIBLE_DEVICES=0"
   ]
  },
  {
   "cell_type": "markdown",
   "metadata": {},
   "source": [
    "## Setup"
   ]
  },
  {
   "cell_type": "markdown",
   "metadata": {},
   "source": [
    "### Install Speedster"
   ]
  },
  {
   "cell_type": "code",
   "execution_count": 23,
   "metadata": {},
   "outputs": [
    {
     "name": "stdout",
     "output_type": "stream",
     "text": [
      "Requirement already satisfied: speedster in /Users/earyzhe/opt/anaconda3/envs/NERF_TURRET/lib/python3.8/site-packages (0.2.1)\n",
      "Requirement already satisfied: nebullvm>=0.8.1 in /Users/earyzhe/opt/anaconda3/envs/NERF_TURRET/lib/python3.8/site-packages (from speedster) (0.8.1)\n",
      "Requirement already satisfied: tabulate>=0.8.0 in /Users/earyzhe/opt/anaconda3/envs/NERF_TURRET/lib/python3.8/site-packages (from speedster) (0.9.0)\n",
      "Requirement already satisfied: requests>=2.26.0 in /Users/earyzhe/opt/anaconda3/envs/NERF_TURRET/lib/python3.8/site-packages (from nebullvm>=0.8.1->speedster) (2.28.2)\n",
      "Requirement already satisfied: loguru>=0.5.3 in /Users/earyzhe/opt/anaconda3/envs/NERF_TURRET/lib/python3.8/site-packages (from nebullvm>=0.8.1->speedster) (0.6.0)\n",
      "Requirement already satisfied: tqdm>=4.36.0 in /Users/earyzhe/opt/anaconda3/envs/NERF_TURRET/lib/python3.8/site-packages (from nebullvm>=0.8.1->speedster) (4.65.0)\n",
      "Requirement already satisfied: psutil>=5.0.0 in /Users/earyzhe/opt/anaconda3/envs/NERF_TURRET/lib/python3.8/site-packages (from nebullvm>=0.8.1->speedster) (5.9.4)\n",
      "Requirement already satisfied: PyYAML>=6.0 in /Users/earyzhe/opt/anaconda3/envs/NERF_TURRET/lib/python3.8/site-packages (from nebullvm>=0.8.1->speedster) (6.0)\n",
      "Requirement already satisfied: packaging>=21.3 in /Users/earyzhe/opt/anaconda3/envs/NERF_TURRET/lib/python3.8/site-packages (from nebullvm>=0.8.1->speedster) (23.0)\n",
      "Requirement already satisfied: py-cpuinfo>=8.0.0 in /Users/earyzhe/opt/anaconda3/envs/NERF_TURRET/lib/python3.8/site-packages (from nebullvm>=0.8.1->speedster) (9.0.0)\n",
      "Requirement already satisfied: numpy<=1.23.1,>=1.20.0 in /Users/earyzhe/opt/anaconda3/envs/NERF_TURRET/lib/python3.8/site-packages (from nebullvm>=0.8.1->speedster) (1.23.1)\n",
      "Requirement already satisfied: urllib3<1.27,>=1.21.1 in /Users/earyzhe/opt/anaconda3/envs/NERF_TURRET/lib/python3.8/site-packages (from requests>=2.26.0->nebullvm>=0.8.1->speedster) (1.26.15)\n",
      "Requirement already satisfied: certifi>=2017.4.17 in /Users/earyzhe/opt/anaconda3/envs/NERF_TURRET/lib/python3.8/site-packages (from requests>=2.26.0->nebullvm>=0.8.1->speedster) (2022.12.7)\n",
      "Requirement already satisfied: idna<4,>=2.5 in /Users/earyzhe/opt/anaconda3/envs/NERF_TURRET/lib/python3.8/site-packages (from requests>=2.26.0->nebullvm>=0.8.1->speedster) (3.4)\n",
      "Requirement already satisfied: charset-normalizer<4,>=2 in /Users/earyzhe/opt/anaconda3/envs/NERF_TURRET/lib/python3.8/site-packages (from requests>=2.26.0->nebullvm>=0.8.1->speedster) (3.1.0)\n"
     ]
    }
   ],
   "source": [
    "!pip install speedster"
   ]
  },
  {
   "cell_type": "code",
   "execution_count": 24,
   "metadata": {},
   "outputs": [
    {
     "name": "stdout",
     "output_type": "stream",
     "text": [
      "\u001b[32m2023-03-15 20:35:38\u001b[0m | \u001b[1mINFO    \u001b[0m | \u001b[1mRunning auto install of nebullvm dependencies\u001b[0m\n",
      "Requirement already satisfied: onnxruntime in /Library/Frameworks/Python.framework/Versions/3.10/lib/python3.10/site-packages (1.14.1)\n",
      "Requirement already satisfied: protobuf in /Library/Frameworks/Python.framework/Versions/3.10/lib/python3.10/site-packages (from onnxruntime) (3.20.3)\n",
      "Requirement already satisfied: coloredlogs in /Library/Frameworks/Python.framework/Versions/3.10/lib/python3.10/site-packages (from onnxruntime) (15.0.1)\n",
      "Requirement already satisfied: sympy in /Library/Frameworks/Python.framework/Versions/3.10/lib/python3.10/site-packages (from onnxruntime) (1.11.1)\n",
      "Requirement already satisfied: packaging in /Library/Frameworks/Python.framework/Versions/3.10/lib/python3.10/site-packages (from onnxruntime) (21.3)\n",
      "Requirement already satisfied: flatbuffers in /Library/Frameworks/Python.framework/Versions/3.10/lib/python3.10/site-packages (from onnxruntime) (23.3.3)\n",
      "Requirement already satisfied: numpy>=1.21.6 in /Library/Frameworks/Python.framework/Versions/3.10/lib/python3.10/site-packages (from onnxruntime) (1.23.3)\n",
      "Requirement already satisfied: humanfriendly>=9.1 in /Library/Frameworks/Python.framework/Versions/3.10/lib/python3.10/site-packages (from coloredlogs->onnxruntime) (10.0)\n",
      "Requirement already satisfied: pyparsing!=3.0.5,>=2.0.2 in /Library/Frameworks/Python.framework/Versions/3.10/lib/python3.10/site-packages (from packaging->onnxruntime) (3.0.9)\n",
      "Requirement already satisfied: mpmath>=0.19 in /Library/Frameworks/Python.framework/Versions/3.10/lib/python3.10/site-packages (from sympy->onnxruntime) (1.3.0)\n",
      "--- Logging error ---\n",
      "Traceback (most recent call last):\n",
      "  File \"/Library/Frameworks/Python.framework/Versions/3.10/lib/python3.10/site-packages/pip/_internal/utils/logging.py\", line 177, in emit\n",
      "    self.console.print(renderable, overflow=\"ignore\", crop=False, style=style)\n",
      "  File \"/Library/Frameworks/Python.framework/Versions/3.10/lib/python3.10/site-packages/pip/_vendor/rich/console.py\", line 1673, in print\n",
      "    extend(render(renderable, render_options))\n",
      "  File \"/Library/Frameworks/Python.framework/Versions/3.10/lib/python3.10/site-packages/pip/_vendor/rich/console.py\", line 1305, in render\n",
      "    for render_output in iter_render:\n",
      "  File \"/Library/Frameworks/Python.framework/Versions/3.10/lib/python3.10/site-packages/pip/_internal/utils/logging.py\", line 134, in __rich_console__\n",
      "    for line in lines:\n",
      "  File \"/Library/Frameworks/Python.framework/Versions/3.10/lib/python3.10/site-packages/pip/_vendor/rich/segment.py\", line 249, in split_lines\n",
      "    for segment in segments:\n",
      "  File \"/Library/Frameworks/Python.framework/Versions/3.10/lib/python3.10/site-packages/pip/_vendor/rich/console.py\", line 1283, in render\n",
      "    renderable = rich_cast(renderable)\n",
      "  File \"/Library/Frameworks/Python.framework/Versions/3.10/lib/python3.10/site-packages/pip/_vendor/rich/protocol.py\", line 36, in rich_cast\n",
      "    renderable = cast_method()\n",
      "  File \"/Library/Frameworks/Python.framework/Versions/3.10/lib/python3.10/site-packages/pip/_internal/self_outdated_check.py\", line 130, in __rich__\n",
      "    pip_cmd = get_best_invocation_for_this_pip()\n",
      "  File \"/Library/Frameworks/Python.framework/Versions/3.10/lib/python3.10/site-packages/pip/_internal/utils/entrypoints.py\", line 58, in get_best_invocation_for_this_pip\n",
      "    if found_executable and os.path.samefile(\n",
      "  File \"/Library/Frameworks/Python.framework/Versions/3.10/lib/python3.10/genericpath.py\", line 101, in samefile\n",
      "    s2 = os.stat(f2)\n",
      "FileNotFoundError: [Errno 2] No such file or directory: '/Library/Frameworks/Python.framework/Versions/3.10/bin/pip'\n",
      "Call stack:\n",
      "  File \"/Library/Frameworks/Python.framework/Versions/3.10/bin/pip3\", line 8, in <module>\n",
      "    sys.exit(main())\n",
      "  File \"/Library/Frameworks/Python.framework/Versions/3.10/lib/python3.10/site-packages/pip/_internal/cli/main.py\", line 70, in main\n",
      "    return command.main(cmd_args)\n",
      "  File \"/Library/Frameworks/Python.framework/Versions/3.10/lib/python3.10/site-packages/pip/_internal/cli/base_command.py\", line 101, in main\n",
      "    return self._main(args)\n",
      "  File \"/Library/Frameworks/Python.framework/Versions/3.10/lib/python3.10/site-packages/pip/_internal/cli/base_command.py\", line 223, in _main\n",
      "    self.handle_pip_version_check(options)\n",
      "  File \"/Library/Frameworks/Python.framework/Versions/3.10/lib/python3.10/site-packages/pip/_internal/cli/req_command.py\", line 190, in handle_pip_version_check\n",
      "    pip_self_version_check(session, options)\n",
      "  File \"/Library/Frameworks/Python.framework/Versions/3.10/lib/python3.10/site-packages/pip/_internal/self_outdated_check.py\", line 236, in pip_self_version_check\n",
      "    logger.warning(\"[present-rich] %s\", upgrade_prompt)\n",
      "  File \"/Library/Frameworks/Python.framework/Versions/3.10/lib/python3.10/logging/__init__.py\", line 1489, in warning\n",
      "    self._log(WARNING, msg, args, **kwargs)\n",
      "  File \"/Library/Frameworks/Python.framework/Versions/3.10/lib/python3.10/logging/__init__.py\", line 1624, in _log\n",
      "    self.handle(record)\n",
      "  File \"/Library/Frameworks/Python.framework/Versions/3.10/lib/python3.10/logging/__init__.py\", line 1634, in handle\n",
      "    self.callHandlers(record)\n",
      "  File \"/Library/Frameworks/Python.framework/Versions/3.10/lib/python3.10/logging/__init__.py\", line 1696, in callHandlers\n",
      "    hdlr.handle(record)\n",
      "  File \"/Library/Frameworks/Python.framework/Versions/3.10/lib/python3.10/logging/__init__.py\", line 968, in handle\n",
      "    self.emit(record)\n",
      "  File \"/Library/Frameworks/Python.framework/Versions/3.10/lib/python3.10/site-packages/pip/_internal/utils/logging.py\", line 179, in emit\n",
      "    self.handleError(record)\n",
      "Message: '[present-rich] %s'\n",
      "Arguments: (UpgradePrompt(old='22.2.1', new='23.0.1'),)\n",
      "Requirement already satisfied: coloredlogs in /Library/Frameworks/Python.framework/Versions/3.10/lib/python3.10/site-packages (15.0.1)\n",
      "Requirement already satisfied: sympy in /Library/Frameworks/Python.framework/Versions/3.10/lib/python3.10/site-packages (1.11.1)\n",
      "Requirement already satisfied: humanfriendly>=9.1 in /Library/Frameworks/Python.framework/Versions/3.10/lib/python3.10/site-packages (from coloredlogs) (10.0)\n",
      "Requirement already satisfied: mpmath>=0.19 in /Library/Frameworks/Python.framework/Versions/3.10/lib/python3.10/site-packages (from sympy) (1.3.0)\n",
      "--- Logging error ---\n",
      "Traceback (most recent call last):\n",
      "  File \"/Library/Frameworks/Python.framework/Versions/3.10/lib/python3.10/site-packages/pip/_internal/utils/logging.py\", line 177, in emit\n",
      "    self.console.print(renderable, overflow=\"ignore\", crop=False, style=style)\n",
      "  File \"/Library/Frameworks/Python.framework/Versions/3.10/lib/python3.10/site-packages/pip/_vendor/rich/console.py\", line 1673, in print\n",
      "    extend(render(renderable, render_options))\n",
      "  File \"/Library/Frameworks/Python.framework/Versions/3.10/lib/python3.10/site-packages/pip/_vendor/rich/console.py\", line 1305, in render\n",
      "    for render_output in iter_render:\n",
      "  File \"/Library/Frameworks/Python.framework/Versions/3.10/lib/python3.10/site-packages/pip/_internal/utils/logging.py\", line 134, in __rich_console__\n",
      "    for line in lines:\n",
      "  File \"/Library/Frameworks/Python.framework/Versions/3.10/lib/python3.10/site-packages/pip/_vendor/rich/segment.py\", line 249, in split_lines\n",
      "    for segment in segments:\n",
      "  File \"/Library/Frameworks/Python.framework/Versions/3.10/lib/python3.10/site-packages/pip/_vendor/rich/console.py\", line 1283, in render\n",
      "    renderable = rich_cast(renderable)\n",
      "  File \"/Library/Frameworks/Python.framework/Versions/3.10/lib/python3.10/site-packages/pip/_vendor/rich/protocol.py\", line 36, in rich_cast\n",
      "    renderable = cast_method()\n",
      "  File \"/Library/Frameworks/Python.framework/Versions/3.10/lib/python3.10/site-packages/pip/_internal/self_outdated_check.py\", line 130, in __rich__\n",
      "    pip_cmd = get_best_invocation_for_this_pip()\n",
      "  File \"/Library/Frameworks/Python.framework/Versions/3.10/lib/python3.10/site-packages/pip/_internal/utils/entrypoints.py\", line 58, in get_best_invocation_for_this_pip\n",
      "    if found_executable and os.path.samefile(\n",
      "  File \"/Library/Frameworks/Python.framework/Versions/3.10/lib/python3.10/genericpath.py\", line 101, in samefile\n",
      "    s2 = os.stat(f2)\n",
      "FileNotFoundError: [Errno 2] No such file or directory: '/Library/Frameworks/Python.framework/Versions/3.10/bin/pip'\n",
      "Call stack:\n",
      "  File \"/Library/Frameworks/Python.framework/Versions/3.10/bin/pip3\", line 8, in <module>\n",
      "    sys.exit(main())\n",
      "  File \"/Library/Frameworks/Python.framework/Versions/3.10/lib/python3.10/site-packages/pip/_internal/cli/main.py\", line 70, in main\n",
      "    return command.main(cmd_args)\n",
      "  File \"/Library/Frameworks/Python.framework/Versions/3.10/lib/python3.10/site-packages/pip/_internal/cli/base_command.py\", line 101, in main\n",
      "    return self._main(args)\n",
      "  File \"/Library/Frameworks/Python.framework/Versions/3.10/lib/python3.10/site-packages/pip/_internal/cli/base_command.py\", line 223, in _main\n",
      "    self.handle_pip_version_check(options)\n",
      "  File \"/Library/Frameworks/Python.framework/Versions/3.10/lib/python3.10/site-packages/pip/_internal/cli/req_command.py\", line 190, in handle_pip_version_check\n",
      "    pip_self_version_check(session, options)\n",
      "  File \"/Library/Frameworks/Python.framework/Versions/3.10/lib/python3.10/site-packages/pip/_internal/self_outdated_check.py\", line 236, in pip_self_version_check\n",
      "    logger.warning(\"[present-rich] %s\", upgrade_prompt)\n",
      "  File \"/Library/Frameworks/Python.framework/Versions/3.10/lib/python3.10/logging/__init__.py\", line 1489, in warning\n",
      "    self._log(WARNING, msg, args, **kwargs)\n",
      "  File \"/Library/Frameworks/Python.framework/Versions/3.10/lib/python3.10/logging/__init__.py\", line 1624, in _log\n",
      "    self.handle(record)\n",
      "  File \"/Library/Frameworks/Python.framework/Versions/3.10/lib/python3.10/logging/__init__.py\", line 1634, in handle\n",
      "    self.callHandlers(record)\n",
      "  File \"/Library/Frameworks/Python.framework/Versions/3.10/lib/python3.10/logging/__init__.py\", line 1696, in callHandlers\n",
      "    hdlr.handle(record)\n",
      "  File \"/Library/Frameworks/Python.framework/Versions/3.10/lib/python3.10/logging/__init__.py\", line 968, in handle\n",
      "    self.emit(record)\n",
      "  File \"/Library/Frameworks/Python.framework/Versions/3.10/lib/python3.10/site-packages/pip/_internal/utils/logging.py\", line 179, in emit\n",
      "    self.handleError(record)\n",
      "Message: '[present-rich] %s'\n",
      "Arguments: (UpgradePrompt(old='22.2.1', new='23.0.1'),)\n",
      "Requirement already satisfied: onnxmltools>=1.11.0 in /Library/Frameworks/Python.framework/Versions/3.10/lib/python3.10/site-packages (1.11.2)\n",
      "Requirement already satisfied: skl2onnx in /Library/Frameworks/Python.framework/Versions/3.10/lib/python3.10/site-packages (from onnxmltools>=1.11.0) (1.14.0)\n",
      "Requirement already satisfied: numpy in /Library/Frameworks/Python.framework/Versions/3.10/lib/python3.10/site-packages (from onnxmltools>=1.11.0) (1.23.3)\n",
      "Requirement already satisfied: onnx in /Library/Frameworks/Python.framework/Versions/3.10/lib/python3.10/site-packages (from onnxmltools>=1.11.0) (1.13.1)\n",
      "Requirement already satisfied: protobuf<4,>=3.20.2 in /Library/Frameworks/Python.framework/Versions/3.10/lib/python3.10/site-packages (from onnx->onnxmltools>=1.11.0) (3.20.3)\n",
      "Requirement already satisfied: typing-extensions>=3.6.2.1 in /Library/Frameworks/Python.framework/Versions/3.10/lib/python3.10/site-packages (from onnx->onnxmltools>=1.11.0) (4.4.0)\n",
      "Requirement already satisfied: onnxconverter-common>=1.7.0 in /Library/Frameworks/Python.framework/Versions/3.10/lib/python3.10/site-packages (from skl2onnx->onnxmltools>=1.11.0) (1.13.0)\n",
      "Requirement already satisfied: scikit-learn<1.3,>=0.19 in /Library/Frameworks/Python.framework/Versions/3.10/lib/python3.10/site-packages (from skl2onnx->onnxmltools>=1.11.0) (1.1.2)\n",
      "Requirement already satisfied: packaging in /Library/Frameworks/Python.framework/Versions/3.10/lib/python3.10/site-packages (from onnxconverter-common>=1.7.0->skl2onnx->onnxmltools>=1.11.0) (21.3)\n",
      "Requirement already satisfied: joblib>=1.0.0 in /Library/Frameworks/Python.framework/Versions/3.10/lib/python3.10/site-packages (from scikit-learn<1.3,>=0.19->skl2onnx->onnxmltools>=1.11.0) (1.2.0)\n",
      "Requirement already satisfied: threadpoolctl>=2.0.0 in /Library/Frameworks/Python.framework/Versions/3.10/lib/python3.10/site-packages (from scikit-learn<1.3,>=0.19->skl2onnx->onnxmltools>=1.11.0) (3.1.0)\n",
      "Requirement already satisfied: scipy>=1.3.2 in /Library/Frameworks/Python.framework/Versions/3.10/lib/python3.10/site-packages (from scikit-learn<1.3,>=0.19->skl2onnx->onnxmltools>=1.11.0) (1.9.2)\n",
      "Requirement already satisfied: pyparsing!=3.0.5,>=2.0.2 in /Library/Frameworks/Python.framework/Versions/3.10/lib/python3.10/site-packages (from packaging->onnxconverter-common>=1.7.0->skl2onnx->onnxmltools>=1.11.0) (3.0.9)\n",
      "--- Logging error ---\n",
      "Traceback (most recent call last):\n",
      "  File \"/Library/Frameworks/Python.framework/Versions/3.10/lib/python3.10/site-packages/pip/_internal/utils/logging.py\", line 177, in emit\n",
      "    self.console.print(renderable, overflow=\"ignore\", crop=False, style=style)\n",
      "  File \"/Library/Frameworks/Python.framework/Versions/3.10/lib/python3.10/site-packages/pip/_vendor/rich/console.py\", line 1673, in print\n",
      "    extend(render(renderable, render_options))\n",
      "  File \"/Library/Frameworks/Python.framework/Versions/3.10/lib/python3.10/site-packages/pip/_vendor/rich/console.py\", line 1305, in render\n",
      "    for render_output in iter_render:\n",
      "  File \"/Library/Frameworks/Python.framework/Versions/3.10/lib/python3.10/site-packages/pip/_internal/utils/logging.py\", line 134, in __rich_console__\n",
      "    for line in lines:\n",
      "  File \"/Library/Frameworks/Python.framework/Versions/3.10/lib/python3.10/site-packages/pip/_vendor/rich/segment.py\", line 249, in split_lines\n",
      "    for segment in segments:\n",
      "  File \"/Library/Frameworks/Python.framework/Versions/3.10/lib/python3.10/site-packages/pip/_vendor/rich/console.py\", line 1283, in render\n",
      "    renderable = rich_cast(renderable)\n",
      "  File \"/Library/Frameworks/Python.framework/Versions/3.10/lib/python3.10/site-packages/pip/_vendor/rich/protocol.py\", line 36, in rich_cast\n",
      "    renderable = cast_method()\n",
      "  File \"/Library/Frameworks/Python.framework/Versions/3.10/lib/python3.10/site-packages/pip/_internal/self_outdated_check.py\", line 130, in __rich__\n",
      "    pip_cmd = get_best_invocation_for_this_pip()\n",
      "  File \"/Library/Frameworks/Python.framework/Versions/3.10/lib/python3.10/site-packages/pip/_internal/utils/entrypoints.py\", line 58, in get_best_invocation_for_this_pip\n",
      "    if found_executable and os.path.samefile(\n",
      "  File \"/Library/Frameworks/Python.framework/Versions/3.10/lib/python3.10/genericpath.py\", line 101, in samefile\n",
      "    s2 = os.stat(f2)\n",
      "FileNotFoundError: [Errno 2] No such file or directory: '/Library/Frameworks/Python.framework/Versions/3.10/bin/pip'\n",
      "Call stack:\n",
      "  File \"/Library/Frameworks/Python.framework/Versions/3.10/bin/pip3\", line 8, in <module>\n",
      "    sys.exit(main())\n",
      "  File \"/Library/Frameworks/Python.framework/Versions/3.10/lib/python3.10/site-packages/pip/_internal/cli/main.py\", line 70, in main\n",
      "    return command.main(cmd_args)\n",
      "  File \"/Library/Frameworks/Python.framework/Versions/3.10/lib/python3.10/site-packages/pip/_internal/cli/base_command.py\", line 101, in main\n",
      "    return self._main(args)\n",
      "  File \"/Library/Frameworks/Python.framework/Versions/3.10/lib/python3.10/site-packages/pip/_internal/cli/base_command.py\", line 223, in _main\n",
      "    self.handle_pip_version_check(options)\n",
      "  File \"/Library/Frameworks/Python.framework/Versions/3.10/lib/python3.10/site-packages/pip/_internal/cli/req_command.py\", line 190, in handle_pip_version_check\n",
      "    pip_self_version_check(session, options)\n",
      "  File \"/Library/Frameworks/Python.framework/Versions/3.10/lib/python3.10/site-packages/pip/_internal/self_outdated_check.py\", line 236, in pip_self_version_check\n",
      "    logger.warning(\"[present-rich] %s\", upgrade_prompt)\n",
      "  File \"/Library/Frameworks/Python.framework/Versions/3.10/lib/python3.10/logging/__init__.py\", line 1489, in warning\n",
      "    self._log(WARNING, msg, args, **kwargs)\n",
      "  File \"/Library/Frameworks/Python.framework/Versions/3.10/lib/python3.10/logging/__init__.py\", line 1624, in _log\n",
      "    self.handle(record)\n",
      "  File \"/Library/Frameworks/Python.framework/Versions/3.10/lib/python3.10/logging/__init__.py\", line 1634, in handle\n",
      "    self.callHandlers(record)\n",
      "  File \"/Library/Frameworks/Python.framework/Versions/3.10/lib/python3.10/logging/__init__.py\", line 1696, in callHandlers\n",
      "    hdlr.handle(record)\n",
      "  File \"/Library/Frameworks/Python.framework/Versions/3.10/lib/python3.10/logging/__init__.py\", line 968, in handle\n",
      "    self.emit(record)\n",
      "  File \"/Library/Frameworks/Python.framework/Versions/3.10/lib/python3.10/site-packages/pip/_internal/utils/logging.py\", line 179, in emit\n",
      "    self.handleError(record)\n",
      "Message: '[present-rich] %s'\n",
      "Arguments: (UpgradePrompt(old='22.2.1', new='23.0.1'),)\n",
      "Requirement already satisfied: onnxsim in /Library/Frameworks/Python.framework/Versions/3.10/lib/python3.10/site-packages (0.4.17)\n",
      "Requirement already satisfied: rich in /Library/Frameworks/Python.framework/Versions/3.10/lib/python3.10/site-packages (from onnxsim) (13.3.1)\n",
      "Requirement already satisfied: onnx in /Library/Frameworks/Python.framework/Versions/3.10/lib/python3.10/site-packages (from onnxsim) (1.13.1)\n",
      "Requirement already satisfied: typing-extensions>=3.6.2.1 in /Library/Frameworks/Python.framework/Versions/3.10/lib/python3.10/site-packages (from onnx->onnxsim) (4.4.0)\n",
      "Requirement already satisfied: protobuf<4,>=3.20.2 in /Library/Frameworks/Python.framework/Versions/3.10/lib/python3.10/site-packages (from onnx->onnxsim) (3.20.3)\n",
      "Requirement already satisfied: numpy>=1.16.6 in /Library/Frameworks/Python.framework/Versions/3.10/lib/python3.10/site-packages (from onnx->onnxsim) (1.23.3)\n",
      "Requirement already satisfied: markdown-it-py<3.0.0,>=2.1.0 in /Library/Frameworks/Python.framework/Versions/3.10/lib/python3.10/site-packages (from rich->onnxsim) (2.1.0)\n",
      "Requirement already satisfied: pygments<3.0.0,>=2.14.0 in /Library/Frameworks/Python.framework/Versions/3.10/lib/python3.10/site-packages (from rich->onnxsim) (2.14.0)\n",
      "Requirement already satisfied: mdurl~=0.1 in /Library/Frameworks/Python.framework/Versions/3.10/lib/python3.10/site-packages (from markdown-it-py<3.0.0,>=2.1.0->rich->onnxsim) (0.1.2)\n",
      "--- Logging error ---\n",
      "Traceback (most recent call last):\n",
      "  File \"/Library/Frameworks/Python.framework/Versions/3.10/lib/python3.10/site-packages/pip/_internal/utils/logging.py\", line 177, in emit\n",
      "    self.console.print(renderable, overflow=\"ignore\", crop=False, style=style)\n",
      "  File \"/Library/Frameworks/Python.framework/Versions/3.10/lib/python3.10/site-packages/pip/_vendor/rich/console.py\", line 1673, in print\n",
      "    extend(render(renderable, render_options))\n",
      "  File \"/Library/Frameworks/Python.framework/Versions/3.10/lib/python3.10/site-packages/pip/_vendor/rich/console.py\", line 1305, in render\n",
      "    for render_output in iter_render:\n",
      "  File \"/Library/Frameworks/Python.framework/Versions/3.10/lib/python3.10/site-packages/pip/_internal/utils/logging.py\", line 134, in __rich_console__\n",
      "    for line in lines:\n",
      "  File \"/Library/Frameworks/Python.framework/Versions/3.10/lib/python3.10/site-packages/pip/_vendor/rich/segment.py\", line 249, in split_lines\n",
      "    for segment in segments:\n",
      "  File \"/Library/Frameworks/Python.framework/Versions/3.10/lib/python3.10/site-packages/pip/_vendor/rich/console.py\", line 1283, in render\n",
      "    renderable = rich_cast(renderable)\n",
      "  File \"/Library/Frameworks/Python.framework/Versions/3.10/lib/python3.10/site-packages/pip/_vendor/rich/protocol.py\", line 36, in rich_cast\n",
      "    renderable = cast_method()\n",
      "  File \"/Library/Frameworks/Python.framework/Versions/3.10/lib/python3.10/site-packages/pip/_internal/self_outdated_check.py\", line 130, in __rich__\n",
      "    pip_cmd = get_best_invocation_for_this_pip()\n",
      "  File \"/Library/Frameworks/Python.framework/Versions/3.10/lib/python3.10/site-packages/pip/_internal/utils/entrypoints.py\", line 58, in get_best_invocation_for_this_pip\n",
      "    if found_executable and os.path.samefile(\n",
      "  File \"/Library/Frameworks/Python.framework/Versions/3.10/lib/python3.10/genericpath.py\", line 101, in samefile\n",
      "    s2 = os.stat(f2)\n",
      "FileNotFoundError: [Errno 2] No such file or directory: '/Library/Frameworks/Python.framework/Versions/3.10/bin/pip'\n",
      "Call stack:\n",
      "  File \"/Library/Frameworks/Python.framework/Versions/3.10/bin/pip3\", line 8, in <module>\n",
      "    sys.exit(main())\n",
      "  File \"/Library/Frameworks/Python.framework/Versions/3.10/lib/python3.10/site-packages/pip/_internal/cli/main.py\", line 70, in main\n",
      "    return command.main(cmd_args)\n",
      "  File \"/Library/Frameworks/Python.framework/Versions/3.10/lib/python3.10/site-packages/pip/_internal/cli/base_command.py\", line 101, in main\n",
      "    return self._main(args)\n",
      "  File \"/Library/Frameworks/Python.framework/Versions/3.10/lib/python3.10/site-packages/pip/_internal/cli/base_command.py\", line 223, in _main\n",
      "    self.handle_pip_version_check(options)\n",
      "  File \"/Library/Frameworks/Python.framework/Versions/3.10/lib/python3.10/site-packages/pip/_internal/cli/req_command.py\", line 190, in handle_pip_version_check\n",
      "    pip_self_version_check(session, options)\n",
      "  File \"/Library/Frameworks/Python.framework/Versions/3.10/lib/python3.10/site-packages/pip/_internal/self_outdated_check.py\", line 236, in pip_self_version_check\n",
      "    logger.warning(\"[present-rich] %s\", upgrade_prompt)\n",
      "  File \"/Library/Frameworks/Python.framework/Versions/3.10/lib/python3.10/logging/__init__.py\", line 1489, in warning\n",
      "    self._log(WARNING, msg, args, **kwargs)\n",
      "  File \"/Library/Frameworks/Python.framework/Versions/3.10/lib/python3.10/logging/__init__.py\", line 1624, in _log\n",
      "    self.handle(record)\n",
      "  File \"/Library/Frameworks/Python.framework/Versions/3.10/lib/python3.10/logging/__init__.py\", line 1634, in handle\n",
      "    self.callHandlers(record)\n",
      "  File \"/Library/Frameworks/Python.framework/Versions/3.10/lib/python3.10/logging/__init__.py\", line 1696, in callHandlers\n",
      "    hdlr.handle(record)\n",
      "  File \"/Library/Frameworks/Python.framework/Versions/3.10/lib/python3.10/logging/__init__.py\", line 968, in handle\n",
      "    self.emit(record)\n",
      "  File \"/Library/Frameworks/Python.framework/Versions/3.10/lib/python3.10/site-packages/pip/_internal/utils/logging.py\", line 179, in emit\n",
      "    self.handleError(record)\n",
      "Message: '[present-rich] %s'\n",
      "Arguments: (UpgradePrompt(old='22.2.1', new='23.0.1'),)\n",
      "\u001b[32m2023-03-15 20:35:52\u001b[0m | \u001b[1mINFO    \u001b[0m | \u001b[1mTrying to install openvino on the platform...\u001b[0m\n",
      "\u001b[32m2023-03-15 20:35:52\u001b[0m | \u001b[1mINFO    \u001b[0m | \u001b[1mopenvino installed successfully!\u001b[0m\n",
      "\u001b[32m2023-03-15 20:35:52\u001b[0m | \u001b[1mINFO    \u001b[0m | \u001b[1mTrying to install deepsparse on the platform...\u001b[0m\n",
      "\u001b[32m2023-03-15 20:35:52\u001b[0m | \u001b[38;2;211;211;211mWARNING \u001b[0m | \u001b[38;2;211;211;211mUnable to install deepsparse on this platform. The compiler will be skipped. \u001b[0m\n",
      "\u001b[32m2023-03-15 20:35:52\u001b[0m | \u001b[1mINFO    \u001b[0m | \u001b[1mTrying to install intel_neural_compressor on the platform...\u001b[0m\n",
      "Requirement already satisfied: neural-compressor in /Users/earyzhe/Library/Python/3.10/lib/python/site-packages (2.0)\n",
      "Requirement already satisfied: pyyaml in /Library/Frameworks/Python.framework/Versions/3.10/lib/python3.10/site-packages (from neural-compressor) (6.0)\n",
      "Requirement already satisfied: opencv-python in /Library/Frameworks/Python.framework/Versions/3.10/lib/python3.10/site-packages (from neural-compressor) (4.6.0.66)\n",
      "Requirement already satisfied: deprecated in /Users/earyzhe/Library/Python/3.10/lib/python/site-packages (from neural-compressor) (1.2.13)\n",
      "Requirement already satisfied: psutil in /Users/earyzhe/Library/Python/3.10/lib/python/site-packages (from neural-compressor) (5.9.3)\n",
      "Requirement already satisfied: Pillow in /Library/Frameworks/Python.framework/Versions/3.10/lib/python3.10/site-packages (from neural-compressor) (9.3.0)\n",
      "Requirement already satisfied: numpy in /Library/Frameworks/Python.framework/Versions/3.10/lib/python3.10/site-packages (from neural-compressor) (1.23.3)\n",
      "Requirement already satisfied: prettytable in /Users/earyzhe/Library/Python/3.10/lib/python/site-packages (from neural-compressor) (3.6.0)\n",
      "Requirement already satisfied: scikit-learn in /Library/Frameworks/Python.framework/Versions/3.10/lib/python3.10/site-packages (from neural-compressor) (1.1.2)\n",
      "Requirement already satisfied: requests in /Library/Frameworks/Python.framework/Versions/3.10/lib/python3.10/site-packages (from neural-compressor) (2.28.1)\n",
      "Requirement already satisfied: pycocotools in /Users/earyzhe/Library/Python/3.10/lib/python/site-packages (from neural-compressor) (2.0.6)\n",
      "Requirement already satisfied: schema in /Users/earyzhe/Library/Python/3.10/lib/python/site-packages (from neural-compressor) (0.7.5)\n",
      "Requirement already satisfied: py-cpuinfo in /Users/earyzhe/Library/Python/3.10/lib/python/site-packages (from neural-compressor) (9.0.0)\n",
      "Requirement already satisfied: pandas in /Library/Frameworks/Python.framework/Versions/3.10/lib/python3.10/site-packages (from neural-compressor) (1.5.2)\n",
      "Requirement already satisfied: wrapt<2,>=1.10 in /Library/Frameworks/Python.framework/Versions/3.10/lib/python3.10/site-packages (from deprecated->neural-compressor) (1.14.1)\n",
      "Requirement already satisfied: python-dateutil>=2.8.1 in /Library/Frameworks/Python.framework/Versions/3.10/lib/python3.10/site-packages (from pandas->neural-compressor) (2.8.2)\n",
      "Requirement already satisfied: pytz>=2020.1 in /Library/Frameworks/Python.framework/Versions/3.10/lib/python3.10/site-packages (from pandas->neural-compressor) (2022.2.1)\n",
      "Requirement already satisfied: wcwidth in /Users/earyzhe/Library/Python/3.10/lib/python/site-packages (from prettytable->neural-compressor) (0.2.5)\n",
      "Requirement already satisfied: matplotlib>=2.1.0 in /Library/Frameworks/Python.framework/Versions/3.10/lib/python3.10/site-packages (from pycocotools->neural-compressor) (3.6.2)\n",
      "Requirement already satisfied: certifi>=2017.4.17 in /Library/Frameworks/Python.framework/Versions/3.10/lib/python3.10/site-packages (from requests->neural-compressor) (2022.6.15)\n",
      "Requirement already satisfied: charset-normalizer<3,>=2 in /Library/Frameworks/Python.framework/Versions/3.10/lib/python3.10/site-packages (from requests->neural-compressor) (2.1.1)\n",
      "Requirement already satisfied: urllib3<1.27,>=1.21.1 in /Library/Frameworks/Python.framework/Versions/3.10/lib/python3.10/site-packages (from requests->neural-compressor) (1.26.12)\n",
      "Requirement already satisfied: idna<4,>=2.5 in /Library/Frameworks/Python.framework/Versions/3.10/lib/python3.10/site-packages (from requests->neural-compressor) (3.4)\n",
      "Requirement already satisfied: contextlib2>=0.5.5 in /Users/earyzhe/Library/Python/3.10/lib/python/site-packages (from schema->neural-compressor) (21.6.0)\n",
      "Requirement already satisfied: threadpoolctl>=2.0.0 in /Library/Frameworks/Python.framework/Versions/3.10/lib/python3.10/site-packages (from scikit-learn->neural-compressor) (3.1.0)\n",
      "Requirement already satisfied: joblib>=1.0.0 in /Library/Frameworks/Python.framework/Versions/3.10/lib/python3.10/site-packages (from scikit-learn->neural-compressor) (1.2.0)\n",
      "Requirement already satisfied: scipy>=1.3.2 in /Library/Frameworks/Python.framework/Versions/3.10/lib/python3.10/site-packages (from scikit-learn->neural-compressor) (1.9.2)\n",
      "Requirement already satisfied: fonttools>=4.22.0 in /Library/Frameworks/Python.framework/Versions/3.10/lib/python3.10/site-packages (from matplotlib>=2.1.0->pycocotools->neural-compressor) (4.38.0)\n",
      "Requirement already satisfied: packaging>=20.0 in /Library/Frameworks/Python.framework/Versions/3.10/lib/python3.10/site-packages (from matplotlib>=2.1.0->pycocotools->neural-compressor) (21.3)\n",
      "Requirement already satisfied: pyparsing>=2.2.1 in /Library/Frameworks/Python.framework/Versions/3.10/lib/python3.10/site-packages (from matplotlib>=2.1.0->pycocotools->neural-compressor) (3.0.9)\n",
      "Requirement already satisfied: kiwisolver>=1.0.1 in /Library/Frameworks/Python.framework/Versions/3.10/lib/python3.10/site-packages (from matplotlib>=2.1.0->pycocotools->neural-compressor) (1.4.4)\n",
      "Requirement already satisfied: cycler>=0.10 in /Library/Frameworks/Python.framework/Versions/3.10/lib/python3.10/site-packages (from matplotlib>=2.1.0->pycocotools->neural-compressor) (0.11.0)\n",
      "Requirement already satisfied: contourpy>=1.0.1 in /Library/Frameworks/Python.framework/Versions/3.10/lib/python3.10/site-packages (from matplotlib>=2.1.0->pycocotools->neural-compressor) (1.0.6)\n",
      "Requirement already satisfied: six>=1.5 in /Library/Frameworks/Python.framework/Versions/3.10/lib/python3.10/site-packages (from python-dateutil>=2.8.1->pandas->neural-compressor) (1.16.0)\n",
      "--- Logging error ---\n",
      "Traceback (most recent call last):\n",
      "  File \"/Library/Frameworks/Python.framework/Versions/3.10/lib/python3.10/site-packages/pip/_internal/utils/logging.py\", line 177, in emit\n",
      "    self.console.print(renderable, overflow=\"ignore\", crop=False, style=style)\n",
      "  File \"/Library/Frameworks/Python.framework/Versions/3.10/lib/python3.10/site-packages/pip/_vendor/rich/console.py\", line 1673, in print\n",
      "    extend(render(renderable, render_options))\n",
      "  File \"/Library/Frameworks/Python.framework/Versions/3.10/lib/python3.10/site-packages/pip/_vendor/rich/console.py\", line 1305, in render\n",
      "    for render_output in iter_render:\n",
      "  File \"/Library/Frameworks/Python.framework/Versions/3.10/lib/python3.10/site-packages/pip/_internal/utils/logging.py\", line 134, in __rich_console__\n",
      "    for line in lines:\n",
      "  File \"/Library/Frameworks/Python.framework/Versions/3.10/lib/python3.10/site-packages/pip/_vendor/rich/segment.py\", line 249, in split_lines\n",
      "    for segment in segments:\n",
      "  File \"/Library/Frameworks/Python.framework/Versions/3.10/lib/python3.10/site-packages/pip/_vendor/rich/console.py\", line 1283, in render\n",
      "    renderable = rich_cast(renderable)\n",
      "  File \"/Library/Frameworks/Python.framework/Versions/3.10/lib/python3.10/site-packages/pip/_vendor/rich/protocol.py\", line 36, in rich_cast\n",
      "    renderable = cast_method()\n",
      "  File \"/Library/Frameworks/Python.framework/Versions/3.10/lib/python3.10/site-packages/pip/_internal/self_outdated_check.py\", line 130, in __rich__\n",
      "    pip_cmd = get_best_invocation_for_this_pip()\n",
      "  File \"/Library/Frameworks/Python.framework/Versions/3.10/lib/python3.10/site-packages/pip/_internal/utils/entrypoints.py\", line 58, in get_best_invocation_for_this_pip\n",
      "    if found_executable and os.path.samefile(\n",
      "  File \"/Library/Frameworks/Python.framework/Versions/3.10/lib/python3.10/genericpath.py\", line 101, in samefile\n",
      "    s2 = os.stat(f2)\n",
      "FileNotFoundError: [Errno 2] No such file or directory: '/Library/Frameworks/Python.framework/Versions/3.10/bin/pip'\n",
      "Call stack:\n",
      "  File \"/Library/Frameworks/Python.framework/Versions/3.10/bin/pip3\", line 8, in <module>\n",
      "    sys.exit(main())\n",
      "  File \"/Library/Frameworks/Python.framework/Versions/3.10/lib/python3.10/site-packages/pip/_internal/cli/main.py\", line 70, in main\n",
      "    return command.main(cmd_args)\n",
      "  File \"/Library/Frameworks/Python.framework/Versions/3.10/lib/python3.10/site-packages/pip/_internal/cli/base_command.py\", line 101, in main\n",
      "    return self._main(args)\n",
      "  File \"/Library/Frameworks/Python.framework/Versions/3.10/lib/python3.10/site-packages/pip/_internal/cli/base_command.py\", line 223, in _main\n",
      "    self.handle_pip_version_check(options)\n",
      "  File \"/Library/Frameworks/Python.framework/Versions/3.10/lib/python3.10/site-packages/pip/_internal/cli/req_command.py\", line 190, in handle_pip_version_check\n",
      "    pip_self_version_check(session, options)\n",
      "  File \"/Library/Frameworks/Python.framework/Versions/3.10/lib/python3.10/site-packages/pip/_internal/self_outdated_check.py\", line 236, in pip_self_version_check\n",
      "    logger.warning(\"[present-rich] %s\", upgrade_prompt)\n",
      "  File \"/Library/Frameworks/Python.framework/Versions/3.10/lib/python3.10/logging/__init__.py\", line 1489, in warning\n",
      "    self._log(WARNING, msg, args, **kwargs)\n",
      "  File \"/Library/Frameworks/Python.framework/Versions/3.10/lib/python3.10/logging/__init__.py\", line 1624, in _log\n",
      "    self.handle(record)\n",
      "  File \"/Library/Frameworks/Python.framework/Versions/3.10/lib/python3.10/logging/__init__.py\", line 1634, in handle\n",
      "    self.callHandlers(record)\n",
      "  File \"/Library/Frameworks/Python.framework/Versions/3.10/lib/python3.10/logging/__init__.py\", line 1696, in callHandlers\n",
      "    hdlr.handle(record)\n",
      "  File \"/Library/Frameworks/Python.framework/Versions/3.10/lib/python3.10/logging/__init__.py\", line 968, in handle\n",
      "    self.emit(record)\n",
      "  File \"/Library/Frameworks/Python.framework/Versions/3.10/lib/python3.10/site-packages/pip/_internal/utils/logging.py\", line 179, in emit\n",
      "    self.handleError(record)\n",
      "Message: '[present-rich] %s'\n",
      "Arguments: (UpgradePrompt(old='22.2.1', new='23.0.1'),)\n",
      "\u001b[32m2023-03-15 20:35:56\u001b[0m | \u001b[38;2;211;211;211mWARNING \u001b[0m | \u001b[38;2;211;211;211mUnable to install intel_neural_compressor on this platform. The compiler will be skipped. \u001b[0m\n"
     ]
    }
   ],
   "source": [
    "!python -m nebullvm.installers.auto_installer --frameworks torch --compilers all"
   ]
  },
  {
   "cell_type": "markdown",
   "metadata": {},
   "source": [
    "### Install Ultralytics YOLOv8"
   ]
  },
  {
   "cell_type": "code",
   "execution_count": 25,
   "metadata": {},
   "outputs": [
    {
     "name": "stdout",
     "output_type": "stream",
     "text": [
      "Requirement already satisfied: ultralytics in /Users/earyzhe/opt/anaconda3/envs/NERF_TURRET/lib/python3.8/site-packages (8.0.53)\n",
      "Requirement already satisfied: matplotlib>=3.2.2 in /Users/earyzhe/opt/anaconda3/envs/NERF_TURRET/lib/python3.8/site-packages (from ultralytics) (3.7.1)\n",
      "Requirement already satisfied: thop>=0.1.1 in /Users/earyzhe/opt/anaconda3/envs/NERF_TURRET/lib/python3.8/site-packages (from ultralytics) (0.1.1.post2209072238)\n",
      "Requirement already satisfied: numpy>=1.18.5 in /Users/earyzhe/opt/anaconda3/envs/NERF_TURRET/lib/python3.8/site-packages (from ultralytics) (1.23.1)\n",
      "Requirement already satisfied: Pillow>=7.1.2 in /Users/earyzhe/opt/anaconda3/envs/NERF_TURRET/lib/python3.8/site-packages (from ultralytics) (9.4.0)\n",
      "Requirement already satisfied: psutil in /Users/earyzhe/opt/anaconda3/envs/NERF_TURRET/lib/python3.8/site-packages (from ultralytics) (5.9.4)\n",
      "Requirement already satisfied: requests>=2.23.0 in /Users/earyzhe/opt/anaconda3/envs/NERF_TURRET/lib/python3.8/site-packages (from ultralytics) (2.28.2)\n",
      "Requirement already satisfied: scipy>=1.4.1 in /Users/earyzhe/opt/anaconda3/envs/NERF_TURRET/lib/python3.8/site-packages (from ultralytics) (1.10.1)\n",
      "Requirement already satisfied: torch>=1.7.0 in /Users/earyzhe/opt/anaconda3/envs/NERF_TURRET/lib/python3.8/site-packages (from ultralytics) (1.13.1)\n",
      "Requirement already satisfied: pandas>=1.1.4 in /Users/earyzhe/opt/anaconda3/envs/NERF_TURRET/lib/python3.8/site-packages (from ultralytics) (1.3.5)\n",
      "Requirement already satisfied: torchvision>=0.8.1 in /Users/earyzhe/opt/anaconda3/envs/NERF_TURRET/lib/python3.8/site-packages (from ultralytics) (0.14.1)\n",
      "Requirement already satisfied: PyYAML>=5.3.1 in /Users/earyzhe/opt/anaconda3/envs/NERF_TURRET/lib/python3.8/site-packages (from ultralytics) (6.0)\n",
      "Requirement already satisfied: sentry-sdk in /Users/earyzhe/opt/anaconda3/envs/NERF_TURRET/lib/python3.8/site-packages (from ultralytics) (1.16.0)\n",
      "Requirement already satisfied: tqdm>=4.64.0 in /Users/earyzhe/opt/anaconda3/envs/NERF_TURRET/lib/python3.8/site-packages (from ultralytics) (4.65.0)\n",
      "Requirement already satisfied: seaborn>=0.11.0 in /Users/earyzhe/opt/anaconda3/envs/NERF_TURRET/lib/python3.8/site-packages (from ultralytics) (0.12.2)\n",
      "Requirement already satisfied: opencv-python>=4.6.0 in /Users/earyzhe/opt/anaconda3/envs/NERF_TURRET/lib/python3.8/site-packages (from ultralytics) (4.7.0.68)\n",
      "Requirement already satisfied: python-dateutil>=2.7 in /Users/earyzhe/opt/anaconda3/envs/NERF_TURRET/lib/python3.8/site-packages (from matplotlib>=3.2.2->ultralytics) (2.8.2)\n",
      "Requirement already satisfied: importlib-resources>=3.2.0 in /Users/earyzhe/opt/anaconda3/envs/NERF_TURRET/lib/python3.8/site-packages (from matplotlib>=3.2.2->ultralytics) (5.12.0)\n",
      "Requirement already satisfied: fonttools>=4.22.0 in /Users/earyzhe/opt/anaconda3/envs/NERF_TURRET/lib/python3.8/site-packages (from matplotlib>=3.2.2->ultralytics) (4.39.0)\n",
      "Requirement already satisfied: kiwisolver>=1.0.1 in /Users/earyzhe/opt/anaconda3/envs/NERF_TURRET/lib/python3.8/site-packages (from matplotlib>=3.2.2->ultralytics) (1.4.4)\n",
      "Requirement already satisfied: contourpy>=1.0.1 in /Users/earyzhe/opt/anaconda3/envs/NERF_TURRET/lib/python3.8/site-packages (from matplotlib>=3.2.2->ultralytics) (1.0.7)\n",
      "Requirement already satisfied: packaging>=20.0 in /Users/earyzhe/opt/anaconda3/envs/NERF_TURRET/lib/python3.8/site-packages (from matplotlib>=3.2.2->ultralytics) (23.0)\n",
      "Requirement already satisfied: pyparsing>=2.3.1 in /Users/earyzhe/opt/anaconda3/envs/NERF_TURRET/lib/python3.8/site-packages (from matplotlib>=3.2.2->ultralytics) (3.0.9)\n",
      "Requirement already satisfied: cycler>=0.10 in /Users/earyzhe/opt/anaconda3/envs/NERF_TURRET/lib/python3.8/site-packages (from matplotlib>=3.2.2->ultralytics) (0.11.0)\n",
      "Requirement already satisfied: pytz>=2017.3 in /Users/earyzhe/opt/anaconda3/envs/NERF_TURRET/lib/python3.8/site-packages (from pandas>=1.1.4->ultralytics) (2022.7.1)\n",
      "Requirement already satisfied: idna<4,>=2.5 in /Users/earyzhe/opt/anaconda3/envs/NERF_TURRET/lib/python3.8/site-packages (from requests>=2.23.0->ultralytics) (3.4)\n",
      "Requirement already satisfied: urllib3<1.27,>=1.21.1 in /Users/earyzhe/opt/anaconda3/envs/NERF_TURRET/lib/python3.8/site-packages (from requests>=2.23.0->ultralytics) (1.26.15)\n",
      "Requirement already satisfied: certifi>=2017.4.17 in /Users/earyzhe/opt/anaconda3/envs/NERF_TURRET/lib/python3.8/site-packages (from requests>=2.23.0->ultralytics) (2022.12.7)\n",
      "Requirement already satisfied: charset-normalizer<4,>=2 in /Users/earyzhe/opt/anaconda3/envs/NERF_TURRET/lib/python3.8/site-packages (from requests>=2.23.0->ultralytics) (3.1.0)\n",
      "Requirement already satisfied: typing-extensions in /Users/earyzhe/opt/anaconda3/envs/NERF_TURRET/lib/python3.8/site-packages (from torch>=1.7.0->ultralytics) (4.5.0)\n",
      "Requirement already satisfied: zipp>=3.1.0 in /Users/earyzhe/opt/anaconda3/envs/NERF_TURRET/lib/python3.8/site-packages (from importlib-resources>=3.2.0->matplotlib>=3.2.2->ultralytics) (3.15.0)\n",
      "Requirement already satisfied: six>=1.5 in /Users/earyzhe/opt/anaconda3/envs/NERF_TURRET/lib/python3.8/site-packages (from python-dateutil>=2.7->matplotlib>=3.2.2->ultralytics) (1.16.0)\n"
     ]
    }
   ],
   "source": [
    "!pip install ultralytics\n"
   ]
  },
  {
   "cell_type": "markdown",
   "metadata": {},
   "source": [
    "## Load YOLOv8s"
   ]
  },
  {
   "cell_type": "code",
   "execution_count": 26,
   "metadata": {},
   "outputs": [],
   "source": [
    "import torch\n",
    "from ultralytics import YOLO\n",
    "\n",
    "yolo = YOLO(model_name)"
   ]
  },
  {
   "attachments": {},
   "cell_type": "markdown",
   "metadata": {},
   "source": [
    "Let's load a test dummy data and see the original output"
   ]
  },
  {
   "cell_type": "code",
   "execution_count": 27,
   "metadata": {},
   "outputs": [
    {
     "data": {
      "text/plain": [
       "(tensor([[[4.14859e+00, 1.48655e+01, 2.25781e+01,  ..., 5.34127e+02, 5.46429e+02, 5.62946e+02],\n",
       "          [1.08360e+01, 5.99086e+00, 6.39432e+00,  ..., 6.15986e+02, 6.09265e+02, 6.04129e+02],\n",
       "          [8.22145e+00, 2.57848e+01, 3.48391e+01,  ..., 2.06990e+02, 2.00341e+02, 1.93398e+02],\n",
       "          ...,\n",
       "          [5.63576e-07, 4.81692e-07, 3.54388e-07,  ..., 1.99650e-06, 1.51591e-06, 9.15296e-07],\n",
       "          [4.00944e-07, 3.38612e-07, 2.76382e-07,  ..., 2.28068e-06, 2.05438e-06, 1.43168e-06],\n",
       "          [5.77944e-07, 2.56105e-07, 1.61813e-07,  ..., 1.94415e-06, 1.64060e-06, 1.15275e-06]]]),\n",
       " [tensor([[[[  8.81701,   5.71406,   4.18604,  ...,   6.16044,   8.18270,   7.29705],\n",
       "            [  9.33525,   5.62313,   3.90346,  ...,   4.38414,   7.75076,   6.59148],\n",
       "            [  9.29873,   4.92093,   3.18499,  ...,   2.53035,   7.02269,   5.97100],\n",
       "            ...,\n",
       "            [  9.74313,   5.21258,   2.78604,  ...,   3.17034,   5.78247,   8.97089],\n",
       "            [  9.03045,   4.89194,   2.90346,  ...,   2.29515,   4.21786,   8.52938],\n",
       "            [  9.27833,   5.17954,   3.03902,  ...,   2.64064,   2.78565,   7.62836]],\n",
       "  \n",
       "           [[  8.72996,   7.63463,   4.97516,  ...,   5.89929,   8.68518,   8.24246],\n",
       "            [  9.29613,   8.35003,   5.11353,  ...,   4.61782,   8.35432,   7.85850],\n",
       "            [  9.25941,   7.98305,   4.50015,  ...,   3.04003,   7.81739,   7.85153],\n",
       "            ...,\n",
       "            [  9.70614,   9.59607,   4.55482,  ...,   5.14717,   6.35703,   8.82111],\n",
       "            [  8.98737,   8.86181,   4.42111,  ...,   4.14764,   4.75090,   8.70716],\n",
       "            [  9.11609,   8.43704,   4.42555,  ...,   4.18454,   3.47704,   8.54103]],\n",
       "  \n",
       "           [[  4.39413,   6.98932,   5.62142,  ...,   4.50570,   6.13760,   7.04659],\n",
       "            [  4.69628,   8.08635,   5.84221,  ...,   4.38259,   5.99573,   7.16353],\n",
       "            [  4.64325,   7.92164,   6.08977,  ...,   3.56896,   5.97638,   7.56619],\n",
       "            ...,\n",
       "            [  4.67840,   9.54978,   7.68996,  ...,   6.04264,   5.80597,   6.08509],\n",
       "            [  4.12450,   8.78281,   6.98594,  ...,   5.01066,   4.71699,   6.04498],\n",
       "            [  4.90180,   8.21721,   5.92885,  ...,   4.83679,   3.97915,   6.24601]],\n",
       "  \n",
       "           ...,\n",
       "  \n",
       "           [[-14.38896, -14.54596, -14.85287,  ..., -13.21065, -12.29961, -11.64465],\n",
       "            [-14.89156, -14.73633, -15.15525,  ..., -13.45240, -12.51938, -12.34697],\n",
       "            [-15.15727, -15.16549, -15.13267,  ..., -13.79836, -12.58000, -12.85367],\n",
       "            ...,\n",
       "            [-13.14678, -13.82020, -14.06729,  ..., -14.08387, -13.75589, -13.00448],\n",
       "            [-13.04513, -13.40196, -13.55697,  ..., -13.69012, -13.71487, -12.85983],\n",
       "            [-12.64366, -13.36225, -13.20988,  ..., -13.42334, -13.12313, -12.80813]],\n",
       "  \n",
       "           [[-14.72944, -14.89841, -15.10148,  ..., -13.95658, -13.02977, -12.22322],\n",
       "            [-15.14369, -15.14052, -15.43575,  ..., -14.38712, -13.79917, -13.23971],\n",
       "            [-15.44459, -15.66307, -15.67492,  ..., -14.92126, -14.00719, -13.82254],\n",
       "            ...,\n",
       "            [-13.65896, -14.07195, -14.23586,  ..., -15.25152, -15.36546, -14.57321],\n",
       "            [-13.35710, -13.69582, -13.68028,  ..., -14.90585, -15.15359, -14.32049],\n",
       "            [-13.61247, -13.94116, -13.83671,  ..., -14.87901, -14.81615, -14.12819]],\n",
       "  \n",
       "           [[-14.36379, -15.17768, -15.63682,  ..., -13.90495, -12.77360, -11.68865],\n",
       "            [-15.32456, -15.55677, -16.04113,  ..., -14.70854, -13.85835, -13.16086],\n",
       "            [-15.65319, -15.95084, -16.05668,  ..., -15.29669, -14.43336, -14.01487],\n",
       "            ...,\n",
       "            [-13.14659, -14.24411, -14.80015,  ..., -14.45844, -14.57359, -13.67603],\n",
       "            [-12.28089, -13.22567, -13.75953,  ..., -13.93153, -14.08251, -13.08127],\n",
       "            [-11.69122, -12.79140, -13.19252,  ..., -13.52765, -13.29887, -12.29044]]]]),\n",
       "  tensor([[[[  6.03285,   2.89200,   2.10646,  ...,   0.15078,   0.29120,   8.36601],\n",
       "            [  6.94741,   3.52058,   2.56957,  ...,   1.30072,   1.74753,   7.83333],\n",
       "            [  7.06806,   3.77734,   2.54081,  ...,   1.34622,   2.17956,   7.07509],\n",
       "            ...,\n",
       "            [  8.09362,   4.28587,   2.76326,  ...,   1.92731,   3.66170,   6.27228],\n",
       "            [  8.16504,   4.13702,   2.68230,  ...,   2.06208,   3.96494,   5.44471],\n",
       "            [  7.88991,   3.81060,   2.41610,  ...,   1.26459,   1.97935,   5.22027]],\n",
       "  \n",
       "           [[  5.77588,   4.63012,   3.15694,  ...,  -0.32596,  -0.41439,   8.37008],\n",
       "            [  6.77464,   6.26757,   3.85819,  ...,   1.22944,   2.62302,   7.99339],\n",
       "            [  6.93839,   6.42979,   3.69238,  ...,   1.44889,   3.36044,   7.43045],\n",
       "            ...,\n",
       "            [  7.98105,   7.35482,   3.84338,  ...,   3.08638,   5.36179,   6.75466],\n",
       "            [  8.04111,   7.25013,   3.89875,  ...,   3.25391,   5.41816,   6.39086],\n",
       "            [  7.71175,   6.89259,   3.73503,  ...,   1.57546,   2.92773,   6.26513]],\n",
       "  \n",
       "           [[  3.34561,   4.46828,   4.90945,  ...,   0.12952,   0.84837,   4.92351],\n",
       "            [  3.31064,   6.11296,   5.74089,  ...,   1.98843,   3.46816,   4.75844],\n",
       "            [  3.33619,   6.34130,   5.58703,  ...,   2.65648,   4.25940,   4.89921],\n",
       "            ...,\n",
       "            [  3.63680,   7.29997,   5.67237,  ...,   4.01056,   5.51067,   4.97811],\n",
       "            [  3.62338,   7.17572,   5.81033,  ...,   4.06242,   5.38034,   5.40518],\n",
       "            [  4.04115,   6.79817,   5.68755,  ...,   2.51191,   3.67795,   5.50859]],\n",
       "  \n",
       "           ...,\n",
       "  \n",
       "           [[-14.52634, -13.91336, -14.39472,  ..., -12.85586, -12.98731, -11.44858],\n",
       "            [-14.41824, -14.41231, -14.86187,  ..., -13.54050, -13.52465, -12.08088],\n",
       "            [-14.07125, -14.12239, -14.48273,  ..., -13.53780, -12.79774, -12.18172],\n",
       "            ...,\n",
       "            [-12.67012, -12.72092, -13.09681,  ..., -12.90075, -12.51803, -12.23079],\n",
       "            [-12.45057, -12.46077, -13.07713,  ..., -12.90128, -12.90817, -12.42799],\n",
       "            [-12.58670, -12.77212, -13.11145,  ..., -13.37222, -13.58937, -12.76050]],\n",
       "  \n",
       "           [[-14.59657, -14.44619, -14.84096,  ..., -14.13386, -14.11972, -12.88319],\n",
       "            [-14.59355, -14.43083, -14.78330,  ..., -14.41370, -14.27260, -13.14547],\n",
       "            [-14.47646, -14.39771, -14.69344,  ..., -14.40652, -13.90788, -13.26200],\n",
       "            ...,\n",
       "            [-13.75826, -13.88613, -14.20101,  ..., -14.24880, -13.84737, -13.20639],\n",
       "            [-13.57292, -13.70231, -14.16068,  ..., -14.09706, -13.88359, -13.39977],\n",
       "            [-13.74940, -14.03809, -14.32521,  ..., -14.43944, -14.46998, -13.78397]],\n",
       "  \n",
       "           [[-15.01574, -14.74725, -15.31754,  ..., -14.29462, -14.23781, -12.83986],\n",
       "            [-14.93696, -14.85954, -15.35748,  ..., -14.58971, -14.47869, -13.19523],\n",
       "            [-14.78336, -14.77132, -15.18663,  ..., -14.47347, -13.93403, -12.96412],\n",
       "            ...,\n",
       "            [-13.58436, -13.71780, -14.16604,  ..., -14.11982, -13.39495, -12.22740],\n",
       "            [-13.25196, -13.36664, -14.08367,  ..., -13.90041, -13.46292, -12.66294],\n",
       "            [-13.36647, -13.83643, -14.21651,  ..., -14.17776, -14.20340, -13.16437]]]]),\n",
       "  tensor([[[[  4.52552,   2.60143,   1.91290,  ...,   1.16939,   1.06036,   0.90952],\n",
       "            [  3.52322,   2.01213,   2.00987,  ...,   1.52467,   1.34515,   1.13468],\n",
       "            [  3.49134,   2.19594,   2.00405,  ...,   1.43861,   1.37078,   1.40172],\n",
       "            ...,\n",
       "            [  4.06417,   2.72623,   2.10942,  ...,   1.58257,   1.70831,   2.88481],\n",
       "            [  4.28740,   2.77001,   2.19571,  ...,   1.55408,   1.46331,   2.64687],\n",
       "            [  4.66270,   2.95150,   2.23305,  ...,   1.24914,   1.00173,   1.18180]],\n",
       "  \n",
       "           [[  4.20054,   3.50094,   2.42069,  ...,   1.13851,   1.32334,   0.91941],\n",
       "            [  3.27660,   2.61587,   2.26075,  ...,   1.63499,   1.81484,   1.20427],\n",
       "            [  3.25635,   2.76259,   2.34415,  ...,   1.77254,   1.96794,   1.71756],\n",
       "            ...,\n",
       "            [  3.78889,   3.40150,   2.68530,  ...,   1.82337,   2.05388,   3.59427],\n",
       "            [  3.93478,   3.86349,   2.84490,  ...,   1.64391,   1.68652,   2.92092],\n",
       "            [  4.32457,   4.43071,   3.04744,  ...,   1.50789,   1.29147,   1.25630]],\n",
       "  \n",
       "           [[  2.46825,   3.33205,   3.58611,  ...,   1.88855,   1.70835,   1.69660],\n",
       "            [  2.02805,   2.72900,   2.82414,  ...,   2.36350,   1.99931,   2.08560],\n",
       "            [  2.29582,   2.83884,   3.01455,  ...,   2.55678,   2.28110,   2.75034],\n",
       "            ...,\n",
       "            [  2.36811,   3.37906,   3.37765,  ...,   2.58267,   2.46511,   3.86082],\n",
       "            [  2.20018,   3.78033,   3.95720,  ...,   2.48403,   2.16163,   3.21904],\n",
       "            [  2.50520,   4.26228,   4.55993,  ...,   2.69598,   2.06712,   1.82464]],\n",
       "  \n",
       "           ...,\n",
       "  \n",
       "           [[-12.71113, -12.92614, -13.38900,  ..., -13.42656, -13.32170, -13.14507],\n",
       "            [-13.60260, -12.85597, -12.79874,  ..., -14.02213, -13.51025, -13.80909],\n",
       "            [-14.13226, -13.41677, -13.26834,  ..., -14.82041, -13.89461, -13.83880],\n",
       "            ...,\n",
       "            [-14.71752, -14.17309, -13.81809,  ..., -14.11322, -13.78532, -13.68113],\n",
       "            [-13.96451, -13.24653, -13.62908,  ..., -13.97216, -13.45688, -13.19909],\n",
       "            [-13.47514, -13.10059, -12.56144,  ..., -13.12411, -13.39950, -13.90402]],\n",
       "  \n",
       "           [[-12.79701, -12.79912, -13.02462,  ..., -13.16931, -13.08297, -13.02298],\n",
       "            [-13.10104, -12.67037, -12.60775,  ..., -13.41264, -13.14947, -13.27325],\n",
       "            [-13.32905, -12.96329, -12.92165,  ..., -13.75116, -13.36671, -13.37342],\n",
       "            ...,\n",
       "            [-13.52421, -13.25472, -13.27377,  ..., -13.35658, -13.13433, -13.35408],\n",
       "            [-13.26878, -12.96818, -13.19455,  ..., -13.35720, -13.09991, -13.23570],\n",
       "            [-13.22188, -13.06853, -12.93279,  ..., -12.99103, -13.09553, -13.45666]],\n",
       "  \n",
       "           [[-13.13491, -13.21689, -13.45637,  ..., -13.57714, -13.52886, -13.33614],\n",
       "            [-13.48204, -12.95373, -12.83992,  ..., -13.69914, -13.44578, -13.57532],\n",
       "            [-13.64609, -13.05141, -12.93604,  ..., -13.96242, -13.53304, -13.53683],\n",
       "            ...,\n",
       "            [-13.87688, -13.46022, -13.34311,  ..., -13.57324, -13.40920, -13.46230],\n",
       "            [-13.64341, -13.22449, -13.44979,  ..., -13.55642, -13.38041, -13.37795],\n",
       "            [-13.43000, -13.26068, -13.07184,  ..., -13.15068, -13.32044, -13.67336]]]])])"
      ]
     },
     "execution_count": 27,
     "metadata": {},
     "output_type": "execute_result"
    }
   ],
   "source": [
    "test_data = torch.randn(1, 3, 640, 640)\n",
    "yolo.model(test_data) # type: ignore"
   ]
  },
  {
   "cell_type": "markdown",
   "metadata": {},
   "source": [
    "The original YOLOv8 model return as output a tuple where the first element is a tensor and the second is a list of tensors. Speedster currently supports only models that return only tensors, so we need to create a wrapper to overcome this issue:"
   ]
  },
  {
   "cell_type": "code",
   "execution_count": 28,
   "metadata": {},
   "outputs": [],
   "source": [
    "class YOLOWrapper(torch.nn.Module):\n",
    "    def __init__(self, yolo_model):\n",
    "        super().__init__()\n",
    "        self.model = yolo_model.model\n",
    "    \n",
    "    def forward(self, x, *args, **kwargs):\n",
    "        res = self.model(x)\n",
    "        return res[0], *tuple(res[1])\n",
    "        \n",
    "model_wrapper = YOLOWrapper(yolo)"
   ]
  },
  {
   "cell_type": "markdown",
   "metadata": {},
   "source": [
    "## YOLOv8s Optimization with GPU"
   ]
  },
  {
   "cell_type": "markdown",
   "metadata": {},
   "source": [
    "We can now optimize the model using speedster:"
   ]
  },
  {
   "cell_type": "code",
   "execution_count": 29,
   "metadata": {},
   "outputs": [
    {
     "name": "stdout",
     "output_type": "stream",
     "text": [
      "\u001b[32m2023-03-15 20:36:01\u001b[0m | \u001b[1mINFO    \u001b[0m | \u001b[1mRunning Speedster on CPU\u001b[0m\n",
      "\u001b[32m2023-03-15 20:36:03\u001b[0m | \u001b[38;2;211;211;211mWARNING \u001b[0m | \u001b[38;2;211;211;211mMissing Frameworks: tensorflow.\n",
      " Please install them to include them in the optimization pipeline.\u001b[0m\n",
      "\u001b[32m2023-03-15 20:36:03\u001b[0m | \u001b[38;2;211;211;211mWARNING \u001b[0m | \u001b[38;2;211;211;211mMissing Compilers: onnxruntime, deepsparse, neural_compressor.\n",
      " Please install them to include them in the optimization pipeline.\u001b[0m\n",
      "\u001b[32m2023-03-15 20:36:57\u001b[0m | \u001b[1mINFO    \u001b[0m | \u001b[1mBenchmark performance of original model\u001b[0m\n"
     ]
    },
    {
     "ename": "KeyboardInterrupt",
     "evalue": "",
     "output_type": "error",
     "traceback": [
      "\u001b[0;31m---------------------------------------------------------------------------\u001b[0m",
      "\u001b[0;31mKeyboardInterrupt\u001b[0m                         Traceback (most recent call last)",
      "Cell \u001b[0;32mIn[29], line 7\u001b[0m\n\u001b[1;32m      4\u001b[0m input_data \u001b[39m=\u001b[39m [((torch\u001b[39m.\u001b[39mrandn(\u001b[39m1\u001b[39m, \u001b[39m3\u001b[39m, \u001b[39m640\u001b[39m, \u001b[39m640\u001b[39m), ), torch\u001b[39m.\u001b[39mtensor([\u001b[39m0\u001b[39m])) \u001b[39mfor\u001b[39;00m i \u001b[39min\u001b[39;00m \u001b[39mrange\u001b[39m(\u001b[39m100\u001b[39m)]\n\u001b[1;32m      6\u001b[0m \u001b[39m# Run Speedster optimization\u001b[39;00m\n\u001b[0;32m----> 7\u001b[0m optimized_model \u001b[39m=\u001b[39m optimize_model(\n\u001b[1;32m      8\u001b[0m   model_wrapper, input_data\u001b[39m=\u001b[39;49minput_data, metric_drop_ths\u001b[39m=\u001b[39;49m\u001b[39m0.1\u001b[39;49m, store_latencies\u001b[39m=\u001b[39;49m\u001b[39mTrue\u001b[39;49;00m\n\u001b[1;32m      9\u001b[0m )\n",
      "File \u001b[0;32m~/opt/anaconda3/envs/NERF_TURRET/lib/python3.8/site-packages/speedster/api/functions.py:127\u001b[0m, in \u001b[0;36moptimize_model\u001b[0;34m(model, input_data, metric_drop_ths, metric, optimization_time, dynamic_info, config_file, ignore_compilers, ignore_compressors, store_latencies, device, **kwargs)\u001b[0m\n\u001b[1;32m    124\u001b[0m disable_log \u001b[39m=\u001b[39m \u001b[39mTrue\u001b[39;00m \u001b[39mif\u001b[39;00m \u001b[39mnot\u001b[39;00m debug_mode_enabled() \u001b[39melse\u001b[39;00m \u001b[39mFalse\u001b[39;00m\n\u001b[1;32m    126\u001b[0m \u001b[39mwith\u001b[39;00m LoggingContext(logging\u001b[39m.\u001b[39mgetLogger(), disabled\u001b[39m=\u001b[39mdisable_log):\n\u001b[0;32m--> 127\u001b[0m     root_op\u001b[39m.\u001b[39;49mto(device)\u001b[39m.\u001b[39;49mexecute(\n\u001b[1;32m    128\u001b[0m         model\u001b[39m=\u001b[39;49mmodel,\n\u001b[1;32m    129\u001b[0m         input_data\u001b[39m=\u001b[39;49minput_data,\n\u001b[1;32m    130\u001b[0m         metric_drop_ths\u001b[39m=\u001b[39;49mmetric_drop_ths,\n\u001b[1;32m    131\u001b[0m         metric\u001b[39m=\u001b[39;49mmetric,\n\u001b[1;32m    132\u001b[0m         optimization_time\u001b[39m=\u001b[39;49moptimization_time,\n\u001b[1;32m    133\u001b[0m         dynamic_info\u001b[39m=\u001b[39;49mdynamic_info,\n\u001b[1;32m    134\u001b[0m         config_file\u001b[39m=\u001b[39;49mconfig_file,\n\u001b[1;32m    135\u001b[0m         ignore_compilers\u001b[39m=\u001b[39;49mignore_compilers,\n\u001b[1;32m    136\u001b[0m         ignore_compressors\u001b[39m=\u001b[39;49mignore_compressors,\n\u001b[1;32m    137\u001b[0m         store_latencies\u001b[39m=\u001b[39;49mstore_latencies,\n\u001b[1;32m    138\u001b[0m         \u001b[39m*\u001b[39;49m\u001b[39m*\u001b[39;49mkwargs,\n\u001b[1;32m    139\u001b[0m     )\n\u001b[1;32m    141\u001b[0m \u001b[39mreturn\u001b[39;00m root_op\u001b[39m.\u001b[39mget_result()\n",
      "File \u001b[0;32m~/opt/anaconda3/envs/NERF_TURRET/lib/python3.8/site-packages/speedster/root_op.py:272\u001b[0m, in \u001b[0;36mSpeedsterRootOp.execute\u001b[0;34m(self, model, input_data, metric_drop_ths, metric, optimization_time, dynamic_info, config_file, ignore_compilers, ignore_compressors, store_latencies, **kwargs)\u001b[0m\n\u001b[1;32m    267\u001b[0m \u001b[39mself\u001b[39m\u001b[39m.\u001b[39mfeedback_collector\u001b[39m.\u001b[39mstore_info(\n\u001b[1;32m    268\u001b[0m     key\u001b[39m=\u001b[39m\u001b[39m\"\u001b[39m\u001b[39mhardware_setup\u001b[39m\u001b[39m\"\u001b[39m, value\u001b[39m=\u001b[39mget_hw_info(\u001b[39mself\u001b[39m\u001b[39m.\u001b[39mdevice)\n\u001b[1;32m    269\u001b[0m )\n\u001b[1;32m    271\u001b[0m \u001b[39m# Benchmark original model\u001b[39;00m\n\u001b[0;32m--> 272\u001b[0m \u001b[39mself\u001b[39;49m\u001b[39m.\u001b[39;49morig_latency_measure_op\u001b[39m.\u001b[39;49mto(\u001b[39mself\u001b[39;49m\u001b[39m.\u001b[39;49mdevice)\u001b[39m.\u001b[39;49mexecute(\n\u001b[1;32m    273\u001b[0m     model\u001b[39m=\u001b[39;49m\u001b[39mself\u001b[39;49m\u001b[39m.\u001b[39;49mmodel,\n\u001b[1;32m    274\u001b[0m     input_data\u001b[39m=\u001b[39;49m\u001b[39mself\u001b[39;49m\u001b[39m.\u001b[39;49mdata\u001b[39m.\u001b[39;49mget_split(\u001b[39m\"\u001b[39;49m\u001b[39mtest\u001b[39;49m\u001b[39m\"\u001b[39;49m),\n\u001b[1;32m    275\u001b[0m     dl_framework\u001b[39m=\u001b[39;49mdl_framework,\n\u001b[1;32m    276\u001b[0m )\n\u001b[1;32m    278\u001b[0m \u001b[39m# Store original model result\u001b[39;00m\n\u001b[1;32m    279\u001b[0m original_model_dict \u001b[39m=\u001b[39m {\n\u001b[1;32m    280\u001b[0m     \u001b[39m\"\u001b[39m\u001b[39mcompiler\u001b[39m\u001b[39m\"\u001b[39m: dl_framework\u001b[39m.\u001b[39mvalue,\n\u001b[1;32m    281\u001b[0m     \u001b[39m\"\u001b[39m\u001b[39mtechnique\u001b[39m\u001b[39m\"\u001b[39m: \u001b[39m\"\u001b[39m\u001b[39moriginal\u001b[39m\u001b[39m\"\u001b[39m,\n\u001b[1;32m    282\u001b[0m     \u001b[39m\"\u001b[39m\u001b[39mlatency\u001b[39m\u001b[39m\"\u001b[39m: \u001b[39mself\u001b[39m\u001b[39m.\u001b[39morig_latency_measure_op\u001b[39m.\u001b[39mget_result()[\u001b[39m1\u001b[39m],\n\u001b[1;32m    283\u001b[0m }\n",
      "File \u001b[0;32m~/opt/anaconda3/envs/NERF_TURRET/lib/python3.8/site-packages/nebullvm/operations/measures/measures.py:96\u001b[0m, in \u001b[0;36mLatencyOriginalModelMeasure.execute\u001b[0;34m(self, model, input_data, dl_framework)\u001b[0m\n\u001b[1;32m     86\u001b[0m \u001b[39mself\u001b[39m\u001b[39m.\u001b[39moutputs \u001b[39m=\u001b[39m [\n\u001b[1;32m     87\u001b[0m     \u001b[39mtuple\u001b[39m(\n\u001b[1;32m     88\u001b[0m         COMPUTE_OUTPUT_FRAMEWORK[dl_framework](\n\u001b[0;32m   (...)\u001b[0m\n\u001b[1;32m     92\u001b[0m     \u001b[39mfor\u001b[39;00m input_tensors \u001b[39min\u001b[39;00m input_data\n\u001b[1;32m     93\u001b[0m ]\n\u001b[1;32m     95\u001b[0m inputs \u001b[39m=\u001b[39m input_data\u001b[39m.\u001b[39mget_list(QUANTIZATION_DATA_NUM)\n\u001b[0;32m---> 96\u001b[0m \u001b[39mself\u001b[39m\u001b[39m.\u001b[39mmeasure_result, _ \u001b[39m=\u001b[39m COMPUTE_LATENCY_FRAMEWORK[dl_framework](\n\u001b[1;32m     97\u001b[0m     inputs, model, \u001b[39mself\u001b[39;49m\u001b[39m.\u001b[39;49mdevice\n\u001b[1;32m     98\u001b[0m )\n\u001b[1;32m     99\u001b[0m \u001b[39mself\u001b[39m\u001b[39m.\u001b[39mlogger\u001b[39m.\u001b[39minfo(\n\u001b[1;32m    100\u001b[0m     \u001b[39mf\u001b[39m\u001b[39m\"\u001b[39m\u001b[39mOriginal model latency: \u001b[39m\u001b[39m{\u001b[39;00m\u001b[39mself\u001b[39m\u001b[39m.\u001b[39mmeasure_result\u001b[39m}\u001b[39;00m\u001b[39m sec/iter\u001b[39m\u001b[39m\"\u001b[39m\n\u001b[1;32m    101\u001b[0m )\n",
      "File \u001b[0;32m~/opt/anaconda3/envs/NERF_TURRET/lib/python3.8/site-packages/nebullvm/operations/measures/utils.py:54\u001b[0m, in \u001b[0;36mcompute_torch_latency\u001b[0;34m(xs, model, device, steps, warmup_steps)\u001b[0m\n\u001b[1;32m     52\u001b[0m \u001b[39mfor\u001b[39;00m i \u001b[39min\u001b[39;00m \u001b[39mrange\u001b[39m(steps):\n\u001b[1;32m     53\u001b[0m     starting_time \u001b[39m=\u001b[39m time\u001b[39m.\u001b[39mtime()\n\u001b[0;32m---> 54\u001b[0m     _ \u001b[39m=\u001b[39m model\u001b[39m.\u001b[39;49mforward(\u001b[39m*\u001b[39;49mxs[i])\n\u001b[1;32m     55\u001b[0m     latencies\u001b[39m.\u001b[39mappend(time\u001b[39m.\u001b[39mtime() \u001b[39m-\u001b[39m starting_time)\n\u001b[1;32m     56\u001b[0m latency \u001b[39m=\u001b[39m np\u001b[39m.\u001b[39mmean(latencies)\n",
      "Cell \u001b[0;32mIn[28], line 7\u001b[0m, in \u001b[0;36mYOLOWrapper.forward\u001b[0;34m(self, x, *args, **kwargs)\u001b[0m\n\u001b[1;32m      6\u001b[0m \u001b[39mdef\u001b[39;00m \u001b[39mforward\u001b[39m(\u001b[39mself\u001b[39m, x, \u001b[39m*\u001b[39margs, \u001b[39m*\u001b[39m\u001b[39m*\u001b[39mkwargs):\n\u001b[0;32m----> 7\u001b[0m     res \u001b[39m=\u001b[39m \u001b[39mself\u001b[39;49m\u001b[39m.\u001b[39;49mmodel(x)\n\u001b[1;32m      8\u001b[0m     \u001b[39mreturn\u001b[39;00m res[\u001b[39m0\u001b[39m], \u001b[39m*\u001b[39m\u001b[39mtuple\u001b[39m(res[\u001b[39m1\u001b[39m])\n",
      "File \u001b[0;32m~/opt/anaconda3/envs/NERF_TURRET/lib/python3.8/site-packages/torch/nn/modules/module.py:1194\u001b[0m, in \u001b[0;36mModule._call_impl\u001b[0;34m(self, *input, **kwargs)\u001b[0m\n\u001b[1;32m   1190\u001b[0m \u001b[39m# If we don't have any hooks, we want to skip the rest of the logic in\u001b[39;00m\n\u001b[1;32m   1191\u001b[0m \u001b[39m# this function, and just call forward.\u001b[39;00m\n\u001b[1;32m   1192\u001b[0m \u001b[39mif\u001b[39;00m \u001b[39mnot\u001b[39;00m (\u001b[39mself\u001b[39m\u001b[39m.\u001b[39m_backward_hooks \u001b[39mor\u001b[39;00m \u001b[39mself\u001b[39m\u001b[39m.\u001b[39m_forward_hooks \u001b[39mor\u001b[39;00m \u001b[39mself\u001b[39m\u001b[39m.\u001b[39m_forward_pre_hooks \u001b[39mor\u001b[39;00m _global_backward_hooks\n\u001b[1;32m   1193\u001b[0m         \u001b[39mor\u001b[39;00m _global_forward_hooks \u001b[39mor\u001b[39;00m _global_forward_pre_hooks):\n\u001b[0;32m-> 1194\u001b[0m     \u001b[39mreturn\u001b[39;00m forward_call(\u001b[39m*\u001b[39;49m\u001b[39minput\u001b[39;49m, \u001b[39m*\u001b[39;49m\u001b[39m*\u001b[39;49mkwargs)\n\u001b[1;32m   1195\u001b[0m \u001b[39m# Do not call functions when jit is used\u001b[39;00m\n\u001b[1;32m   1196\u001b[0m full_backward_hooks, non_full_backward_hooks \u001b[39m=\u001b[39m [], []\n",
      "File \u001b[0;32m~/opt/anaconda3/envs/NERF_TURRET/lib/python3.8/site-packages/ultralytics/nn/tasks.py:199\u001b[0m, in \u001b[0;36mDetectionModel.forward\u001b[0;34m(self, x, augment, profile, visualize)\u001b[0m\n\u001b[1;32m    197\u001b[0m \u001b[39mif\u001b[39;00m augment:\n\u001b[1;32m    198\u001b[0m     \u001b[39mreturn\u001b[39;00m \u001b[39mself\u001b[39m\u001b[39m.\u001b[39m_forward_augment(x)  \u001b[39m# augmented inference, None\u001b[39;00m\n\u001b[0;32m--> 199\u001b[0m \u001b[39mreturn\u001b[39;00m \u001b[39mself\u001b[39;49m\u001b[39m.\u001b[39;49m_forward_once(x, profile, visualize)\n",
      "File \u001b[0;32m~/opt/anaconda3/envs/NERF_TURRET/lib/python3.8/site-packages/ultralytics/nn/tasks.py:58\u001b[0m, in \u001b[0;36mBaseModel._forward_once\u001b[0;34m(self, x, profile, visualize)\u001b[0m\n\u001b[1;32m     56\u001b[0m \u001b[39mif\u001b[39;00m profile:\n\u001b[1;32m     57\u001b[0m     \u001b[39mself\u001b[39m\u001b[39m.\u001b[39m_profile_one_layer(m, x, dt)\n\u001b[0;32m---> 58\u001b[0m x \u001b[39m=\u001b[39m m(x)  \u001b[39m# run\u001b[39;00m\n\u001b[1;32m     59\u001b[0m y\u001b[39m.\u001b[39mappend(x \u001b[39mif\u001b[39;00m m\u001b[39m.\u001b[39mi \u001b[39min\u001b[39;00m \u001b[39mself\u001b[39m\u001b[39m.\u001b[39msave \u001b[39melse\u001b[39;00m \u001b[39mNone\u001b[39;00m)  \u001b[39m# save output\u001b[39;00m\n\u001b[1;32m     60\u001b[0m \u001b[39mif\u001b[39;00m visualize:\n",
      "File \u001b[0;32m~/opt/anaconda3/envs/NERF_TURRET/lib/python3.8/site-packages/torch/nn/modules/module.py:1194\u001b[0m, in \u001b[0;36mModule._call_impl\u001b[0;34m(self, *input, **kwargs)\u001b[0m\n\u001b[1;32m   1190\u001b[0m \u001b[39m# If we don't have any hooks, we want to skip the rest of the logic in\u001b[39;00m\n\u001b[1;32m   1191\u001b[0m \u001b[39m# this function, and just call forward.\u001b[39;00m\n\u001b[1;32m   1192\u001b[0m \u001b[39mif\u001b[39;00m \u001b[39mnot\u001b[39;00m (\u001b[39mself\u001b[39m\u001b[39m.\u001b[39m_backward_hooks \u001b[39mor\u001b[39;00m \u001b[39mself\u001b[39m\u001b[39m.\u001b[39m_forward_hooks \u001b[39mor\u001b[39;00m \u001b[39mself\u001b[39m\u001b[39m.\u001b[39m_forward_pre_hooks \u001b[39mor\u001b[39;00m _global_backward_hooks\n\u001b[1;32m   1193\u001b[0m         \u001b[39mor\u001b[39;00m _global_forward_hooks \u001b[39mor\u001b[39;00m _global_forward_pre_hooks):\n\u001b[0;32m-> 1194\u001b[0m     \u001b[39mreturn\u001b[39;00m forward_call(\u001b[39m*\u001b[39;49m\u001b[39minput\u001b[39;49m, \u001b[39m*\u001b[39;49m\u001b[39m*\u001b[39;49mkwargs)\n\u001b[1;32m   1195\u001b[0m \u001b[39m# Do not call functions when jit is used\u001b[39;00m\n\u001b[1;32m   1196\u001b[0m full_backward_hooks, non_full_backward_hooks \u001b[39m=\u001b[39m [], []\n",
      "File \u001b[0;32m~/opt/anaconda3/envs/NERF_TURRET/lib/python3.8/site-packages/ultralytics/nn/modules.py:34\u001b[0m, in \u001b[0;36mConv.forward\u001b[0;34m(self, x)\u001b[0m\n\u001b[1;32m     33\u001b[0m \u001b[39mdef\u001b[39;00m \u001b[39mforward\u001b[39m(\u001b[39mself\u001b[39m, x):\n\u001b[0;32m---> 34\u001b[0m     \u001b[39mreturn\u001b[39;00m \u001b[39mself\u001b[39m\u001b[39m.\u001b[39mact(\u001b[39mself\u001b[39m\u001b[39m.\u001b[39mbn(\u001b[39mself\u001b[39;49m\u001b[39m.\u001b[39;49mconv(x)))\n",
      "File \u001b[0;32m~/opt/anaconda3/envs/NERF_TURRET/lib/python3.8/site-packages/torch/nn/modules/module.py:1194\u001b[0m, in \u001b[0;36mModule._call_impl\u001b[0;34m(self, *input, **kwargs)\u001b[0m\n\u001b[1;32m   1190\u001b[0m \u001b[39m# If we don't have any hooks, we want to skip the rest of the logic in\u001b[39;00m\n\u001b[1;32m   1191\u001b[0m \u001b[39m# this function, and just call forward.\u001b[39;00m\n\u001b[1;32m   1192\u001b[0m \u001b[39mif\u001b[39;00m \u001b[39mnot\u001b[39;00m (\u001b[39mself\u001b[39m\u001b[39m.\u001b[39m_backward_hooks \u001b[39mor\u001b[39;00m \u001b[39mself\u001b[39m\u001b[39m.\u001b[39m_forward_hooks \u001b[39mor\u001b[39;00m \u001b[39mself\u001b[39m\u001b[39m.\u001b[39m_forward_pre_hooks \u001b[39mor\u001b[39;00m _global_backward_hooks\n\u001b[1;32m   1193\u001b[0m         \u001b[39mor\u001b[39;00m _global_forward_hooks \u001b[39mor\u001b[39;00m _global_forward_pre_hooks):\n\u001b[0;32m-> 1194\u001b[0m     \u001b[39mreturn\u001b[39;00m forward_call(\u001b[39m*\u001b[39;49m\u001b[39minput\u001b[39;49m, \u001b[39m*\u001b[39;49m\u001b[39m*\u001b[39;49mkwargs)\n\u001b[1;32m   1195\u001b[0m \u001b[39m# Do not call functions when jit is used\u001b[39;00m\n\u001b[1;32m   1196\u001b[0m full_backward_hooks, non_full_backward_hooks \u001b[39m=\u001b[39m [], []\n",
      "File \u001b[0;32m~/opt/anaconda3/envs/NERF_TURRET/lib/python3.8/site-packages/torch/nn/modules/conv.py:463\u001b[0m, in \u001b[0;36mConv2d.forward\u001b[0;34m(self, input)\u001b[0m\n\u001b[1;32m    462\u001b[0m \u001b[39mdef\u001b[39;00m \u001b[39mforward\u001b[39m(\u001b[39mself\u001b[39m, \u001b[39minput\u001b[39m: Tensor) \u001b[39m-\u001b[39m\u001b[39m>\u001b[39m Tensor:\n\u001b[0;32m--> 463\u001b[0m     \u001b[39mreturn\u001b[39;00m \u001b[39mself\u001b[39;49m\u001b[39m.\u001b[39;49m_conv_forward(\u001b[39minput\u001b[39;49m, \u001b[39mself\u001b[39;49m\u001b[39m.\u001b[39;49mweight, \u001b[39mself\u001b[39;49m\u001b[39m.\u001b[39;49mbias)\n",
      "File \u001b[0;32m~/opt/anaconda3/envs/NERF_TURRET/lib/python3.8/site-packages/torch/nn/modules/conv.py:459\u001b[0m, in \u001b[0;36mConv2d._conv_forward\u001b[0;34m(self, input, weight, bias)\u001b[0m\n\u001b[1;32m    455\u001b[0m \u001b[39mif\u001b[39;00m \u001b[39mself\u001b[39m\u001b[39m.\u001b[39mpadding_mode \u001b[39m!=\u001b[39m \u001b[39m'\u001b[39m\u001b[39mzeros\u001b[39m\u001b[39m'\u001b[39m:\n\u001b[1;32m    456\u001b[0m     \u001b[39mreturn\u001b[39;00m F\u001b[39m.\u001b[39mconv2d(F\u001b[39m.\u001b[39mpad(\u001b[39minput\u001b[39m, \u001b[39mself\u001b[39m\u001b[39m.\u001b[39m_reversed_padding_repeated_twice, mode\u001b[39m=\u001b[39m\u001b[39mself\u001b[39m\u001b[39m.\u001b[39mpadding_mode),\n\u001b[1;32m    457\u001b[0m                     weight, bias, \u001b[39mself\u001b[39m\u001b[39m.\u001b[39mstride,\n\u001b[1;32m    458\u001b[0m                     _pair(\u001b[39m0\u001b[39m), \u001b[39mself\u001b[39m\u001b[39m.\u001b[39mdilation, \u001b[39mself\u001b[39m\u001b[39m.\u001b[39mgroups)\n\u001b[0;32m--> 459\u001b[0m \u001b[39mreturn\u001b[39;00m F\u001b[39m.\u001b[39;49mconv2d(\u001b[39minput\u001b[39;49m, weight, bias, \u001b[39mself\u001b[39;49m\u001b[39m.\u001b[39;49mstride,\n\u001b[1;32m    460\u001b[0m                 \u001b[39mself\u001b[39;49m\u001b[39m.\u001b[39;49mpadding, \u001b[39mself\u001b[39;49m\u001b[39m.\u001b[39;49mdilation, \u001b[39mself\u001b[39;49m\u001b[39m.\u001b[39;49mgroups)\n",
      "\u001b[0;31mKeyboardInterrupt\u001b[0m: "
     ]
    }
   ],
   "source": [
    "from speedster import optimize_model\n",
    "\n",
    "# Provide some input data for the model    \n",
    "input_data = [((torch.randn(1, 3, 640, 640), ), torch.tensor([0])) for i in range(100)]\n",
    "\n",
    "# Run Speedster optimization\n",
    "optimized_model = optimize_model(\n",
    "  model_wrapper, input_data=input_data, metric_drop_ths=0.1, store_latencies=True\n",
    ")"
   ]
  },
  {
   "cell_type": "markdown",
   "metadata": {},
   "source": [
    "We can finally restore the original output format by wrapping the optimized model in a new class:"
   ]
  },
  {
   "cell_type": "code",
   "execution_count": 30,
   "metadata": {},
   "outputs": [],
   "source": [
    "class OptimizedYOLO(torch.nn.Module):\n",
    "    def __init__(self, optimized_model):\n",
    "        super().__init__()\n",
    "        self.model = optimized_model\n",
    "    \n",
    "    def forward(self, x, *args, **kwargs):\n",
    "        res = self.model(x)\n",
    "        return res[0], list(res[1:])\n",
    "    \n",
    "optimized_wrapper = OptimizedYOLO(optimized_model)"
   ]
  },
  {
   "cell_type": "code",
   "execution_count": null,
   "metadata": {},
   "outputs": [],
   "source": [
    "optimized_wrapper(test_data.cuda())"
   ]
  },
  {
   "cell_type": "markdown",
   "metadata": {},
   "source": [
    "## YOLOv8s Optimization with CPU"
   ]
  },
  {
   "cell_type": "code",
   "execution_count": 31,
   "metadata": {},
   "outputs": [
    {
     "name": "stdout",
     "output_type": "stream",
     "text": [
      "\u001b[32m2023-03-15 20:37:59\u001b[0m | \u001b[1mINFO    \u001b[0m | \u001b[1mRunning Speedster on CPU\u001b[0m\n",
      "\u001b[32m2023-03-15 20:38:00\u001b[0m | \u001b[38;2;211;211;211mWARNING \u001b[0m | \u001b[38;2;211;211;211mMissing Frameworks: tensorflow.\n",
      " Please install them to include them in the optimization pipeline.\u001b[0m\n",
      "\u001b[32m2023-03-15 20:38:00\u001b[0m | \u001b[38;2;211;211;211mWARNING \u001b[0m | \u001b[38;2;211;211;211mMissing Compilers: onnxruntime, deepsparse, neural_compressor.\n",
      " Please install them to include them in the optimization pipeline.\u001b[0m\n"
     ]
    }
   ],
   "source": [
    "from speedster import optimize_model, save_model, load_model\n",
    "from ultralytics import YOLO\n",
    "\n",
    "yolo = YOLO(model_name)\n",
    "model_wrapper = YOLOWrapper(yolo)\n",
    "\n",
    "# Provide some input data for the model    \n",
    "input_data = [((torch.randn(1, 3, 640, 640), ), torch.tensor([0])) for i in range(100)]\n",
    "\n",
    "# Run Speedster optimization\n",
    "optimized_model = optimize_model(\n",
    "  model_wrapper, input_data=input_data, metric_drop_ths=0.1, store_latencies=True, device=\"cpu\"\n",
    ")\n",
    "\n",
    "optimized_wrapper = OptimizedYOLO(optimized_model)"
   ]
  },
  {
   "cell_type": "code",
   "execution_count": null,
   "metadata": {},
   "outputs": [],
   "source": [
    "optimized_wrapper(test_data)"
   ]
  },
  {
   "attachments": {},
   "cell_type": "markdown",
   "id": "b72bdf54",
   "metadata": {},
   "source": [
    "## Save and reload the optimized model"
   ]
  },
  {
   "attachments": {},
   "cell_type": "markdown",
   "id": "ada71f91",
   "metadata": {},
   "source": [
    "We can easily save to disk the optimized model with the following line:"
   ]
  },
  {
   "cell_type": "code",
   "execution_count": null,
   "id": "99b3a9d0",
   "metadata": {},
   "outputs": [],
   "source": [
    "save_model(optimized_model, \"model_save_path\")"
   ]
  },
  {
   "attachments": {},
   "cell_type": "markdown",
   "id": "6308ddd7",
   "metadata": {},
   "source": [
    "We can then load again the model:"
   ]
  },
  {
   "cell_type": "code",
   "execution_count": null,
   "id": "f9946f6b",
   "metadata": {},
   "outputs": [],
   "source": [
    "optimized_model = load_model(\"model_save_path\")\n",
    "optimized_wrapper = OptimizedYOLO(optimized_model)"
   ]
  },
  {
   "cell_type": "markdown",
   "id": "d50807de",
   "metadata": {
    "id": "d50807de"
   },
   "source": [
    "What an amazing result, right?!? Stay tuned for more cool content from the Nebuly team :) "
   ]
  },
  {
   "attachments": {},
   "cell_type": "markdown",
   "id": "b77ff2ac",
   "metadata": {
    "id": "b77ff2ac"
   },
   "source": [
    "<center> \n",
    "    <a href=\"https://discord.com/invite/RbeQMu886J\" target=\"_blank\" style=\"text-decoration: none;\"> Join the community </a> |\n",
    "    <a href=\"https://nebuly.gitbook.io/nebuly/welcome/questions-and-contributions\" target=\"_blank\" style=\"text-decoration: none;\"> Contribute to the library </a>\n",
    "</center>\n",
    "\n",
    "<center> \n",
    "    <a href=\"https://github.com/nebuly-ai/nebullvm/tree/main/apps/accelerate/speedster#key-concepts\" target=\"_blank\" style=\"text-decoration: none;\"> How speedster works </a> •\n",
    "    <a href=\"https://github.com/nebuly-ai/nebullvm/tree/main/apps/accelerate/speedster#documentation\" target=\"_blank\" style=\"text-decoration: none;\"> Documentation </a> •\n",
    "    <a href=\"https://github.com/nebuly-ai/nebullvm/tree/main/apps/accelerate/speedster#quick-start\" target=\"_blank\" style=\"text-decoration: none;\"> Quick start </a> \n",
    "</center>"
   ]
  }
 ],
 "metadata": {
  "kernelspec": {
   "display_name": "Python 3",
   "language": "python",
   "name": "python3"
  },
  "language_info": {
   "codemirror_mode": {
    "name": "ipython",
    "version": 3
   },
   "file_extension": ".py",
   "mimetype": "text/x-python",
   "name": "python",
   "nbconvert_exporter": "python",
   "pygments_lexer": "ipython3",
   "version": "3.8.16"
  },
  "vscode": {
   "interpreter": {
    "hash": "b0fa6594d8f4cbf19f97940f81e996739fb7646882a419484c72d19e05852a7e"
   }
  }
 },
 "nbformat": 4,
 "nbformat_minor": 2
}
